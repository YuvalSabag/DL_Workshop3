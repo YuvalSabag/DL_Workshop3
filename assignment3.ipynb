{
 "cells": [
  {
   "cell_type": "code",
   "outputs": [
    {
     "name": "stderr",
     "output_type": "stream",
     "text": [
      "[nltk_data] Downloading package stopwords to\n",
      "[nltk_data]     /Users/ofekglik/nltk_data...\n",
      "[nltk_data]   Package stopwords is already up-to-date!\n"
     ]
    },
    {
     "data": {
      "text/plain": "True"
     },
     "execution_count": 72,
     "metadata": {},
     "output_type": "execute_result"
    }
   ],
   "source": [
    "import lightning as L \n",
    "import pandas as pd \n",
    "import torch\n",
    "from torch import nn, optim\n",
    "from torch.utils.data import Dataset, DataLoader\n",
    "from torch.nn.utils.rnn import pad_sequence\n",
    "import numpy as np\n",
    "import random\n",
    "import os\n",
    "from lightning.pytorch.callbacks import EarlyStopping, ModelCheckpoint\n",
    "from lightning.pytorch.loggers import TensorBoardLogger\n",
    "from sklearn.model_selection import train_test_split\n",
    "from torchtext.vocab import build_vocab_from_iterator\n",
    "from sklearn.feature_extraction.text import CountVectorizer\n",
    "from sklearn.linear_model import LinearRegression, Ridge, Lasso\n",
    "from sklearn.ensemble import RandomForestRegressor\n",
    "from sklearn.metrics import mean_squared_error, r2_score, mean_absolute_error\n",
    "import matplotlib.pyplot as plt\n",
    "import nltk\n",
    "from nltk.corpus import stopwords\n",
    "from gensim.models import Word2Vec\n",
    "\n",
    "nltk.download('stopwords')"
   ],
   "metadata": {
    "collapsed": false,
    "ExecuteTime": {
     "end_time": "2024-03-11T15:36:35.932662Z",
     "start_time": "2024-03-11T15:36:35.593116Z"
    }
   },
   "id": "783ecac59f28b0c7",
   "execution_count": 72
  },
  {
   "cell_type": "code",
   "outputs": [],
   "source": [
    "if torch.backends.mps.is_built():\n",
    "    device = torch.device('mps')"
   ],
   "metadata": {
    "collapsed": false,
    "ExecuteTime": {
     "end_time": "2024-03-11T13:11:39.614757Z",
     "start_time": "2024-03-11T13:11:39.601156Z"
    }
   },
   "id": "41515620c4fbf6c9",
   "execution_count": 2
  },
  {
   "cell_type": "code",
   "outputs": [
    {
     "data": {
      "text/plain": "device(type='mps')"
     },
     "execution_count": 3,
     "metadata": {},
     "output_type": "execute_result"
    }
   ],
   "source": [
    "device"
   ],
   "metadata": {
    "collapsed": false,
    "ExecuteTime": {
     "end_time": "2024-03-11T13:11:40.144240Z",
     "start_time": "2024-03-11T13:11:40.131437Z"
    }
   },
   "id": "a0f3e82f1f85aa91",
   "execution_count": 3
  },
  {
   "cell_type": "markdown",
   "source": [
    "# Setting the Random Seed"
   ],
   "metadata": {
    "collapsed": false
   },
   "id": "d71b9210b61d46c3"
  },
  {
   "cell_type": "code",
   "outputs": [],
   "source": [
    "SEED = 43\n",
    "def random_seed(SEED):\n",
    "    random.seed(SEED)\n",
    "    os.environ['PYTHONHASHSEED'] = str(SEED)\n",
    "    np.random.seed(SEED)\n",
    "    torch.manual_seed(SEED)\n",
    "    torch.cuda.manual_seed(SEED)\n",
    "    torch.cuda.manual_seed_all(SEED)\n",
    "    torch.backends.cudnn.deterministic = True\n",
    "\n",
    "random_seed(SEED)"
   ],
   "metadata": {
    "collapsed": false,
    "ExecuteTime": {
     "end_time": "2024-03-11T13:11:40.567960Z",
     "start_time": "2024-03-11T13:11:40.556540Z"
    }
   },
   "id": "398b513869a182d6",
   "execution_count": 4
  },
  {
   "cell_type": "markdown",
   "source": [
    "# Loading the Data"
   ],
   "metadata": {
    "collapsed": false
   },
   "id": "a94795d1ad17409d"
  },
  {
   "cell_type": "code",
   "outputs": [],
   "source": [
    "train = pd.read_csv('train.csv', encoding='ISO-8859-1')"
   ],
   "metadata": {
    "collapsed": false,
    "ExecuteTime": {
     "end_time": "2024-03-11T13:11:41.322138Z",
     "start_time": "2024-03-11T13:11:41.257993Z"
    }
   },
   "id": "ef759c5121f4a975",
   "execution_count": 5
  },
  {
   "cell_type": "code",
   "outputs": [
    {
     "data": {
      "text/plain": "   id  product_uid                                      product_title  \\\n0   2       100001                  Simpson Strong-Tie 12-Gauge Angle   \n1   3       100001                  Simpson Strong-Tie 12-Gauge Angle   \n2   9       100002  BEHR Premium Textured DeckOver 1-gal. #SC-141 ...   \n3  16       100005  Delta Vero 1-Handle Shower Only Faucet Trim Ki...   \n4  17       100005  Delta Vero 1-Handle Shower Only Faucet Trim Ki...   \n\n          search_term  relevance  \n0       angle bracket       3.00  \n1           l bracket       2.50  \n2           deck over       3.00  \n3    rain shower head       2.33  \n4  shower only faucet       2.67  ",
      "text/html": "<div>\n<style scoped>\n    .dataframe tbody tr th:only-of-type {\n        vertical-align: middle;\n    }\n\n    .dataframe tbody tr th {\n        vertical-align: top;\n    }\n\n    .dataframe thead th {\n        text-align: right;\n    }\n</style>\n<table border=\"1\" class=\"dataframe\">\n  <thead>\n    <tr style=\"text-align: right;\">\n      <th></th>\n      <th>id</th>\n      <th>product_uid</th>\n      <th>product_title</th>\n      <th>search_term</th>\n      <th>relevance</th>\n    </tr>\n  </thead>\n  <tbody>\n    <tr>\n      <th>0</th>\n      <td>2</td>\n      <td>100001</td>\n      <td>Simpson Strong-Tie 12-Gauge Angle</td>\n      <td>angle bracket</td>\n      <td>3.00</td>\n    </tr>\n    <tr>\n      <th>1</th>\n      <td>3</td>\n      <td>100001</td>\n      <td>Simpson Strong-Tie 12-Gauge Angle</td>\n      <td>l bracket</td>\n      <td>2.50</td>\n    </tr>\n    <tr>\n      <th>2</th>\n      <td>9</td>\n      <td>100002</td>\n      <td>BEHR Premium Textured DeckOver 1-gal. #SC-141 ...</td>\n      <td>deck over</td>\n      <td>3.00</td>\n    </tr>\n    <tr>\n      <th>3</th>\n      <td>16</td>\n      <td>100005</td>\n      <td>Delta Vero 1-Handle Shower Only Faucet Trim Ki...</td>\n      <td>rain shower head</td>\n      <td>2.33</td>\n    </tr>\n    <tr>\n      <th>4</th>\n      <td>17</td>\n      <td>100005</td>\n      <td>Delta Vero 1-Handle Shower Only Faucet Trim Ki...</td>\n      <td>shower only faucet</td>\n      <td>2.67</td>\n    </tr>\n  </tbody>\n</table>\n</div>"
     },
     "execution_count": 6,
     "metadata": {},
     "output_type": "execute_result"
    }
   ],
   "source": [
    "train.head()"
   ],
   "metadata": {
    "collapsed": false,
    "ExecuteTime": {
     "end_time": "2024-03-11T13:11:41.505202Z",
     "start_time": "2024-03-11T13:11:41.489823Z"
    }
   },
   "id": "7281d86cc34cf1b1",
   "execution_count": 6
  },
  {
   "cell_type": "code",
   "outputs": [],
   "source": [
    "test = pd.read_csv('test.csv', encoding='ISO-8859-1')"
   ],
   "metadata": {
    "collapsed": false,
    "ExecuteTime": {
     "end_time": "2024-03-11T13:11:41.781685Z",
     "start_time": "2024-03-11T13:11:41.660672Z"
    }
   },
   "id": "90bdf588dab3cc07",
   "execution_count": 7
  },
  {
   "cell_type": "code",
   "outputs": [
    {
     "data": {
      "text/plain": "   id  product_uid                      product_title  \\\n0   1       100001  Simpson Strong-Tie 12-Gauge Angle   \n1   4       100001  Simpson Strong-Tie 12-Gauge Angle   \n2   5       100001  Simpson Strong-Tie 12-Gauge Angle   \n3   6       100001  Simpson Strong-Tie 12-Gauge Angle   \n4   7       100001  Simpson Strong-Tie 12-Gauge Angle   \n\n                 search_term  \n0          90 degree bracket  \n1           metal l brackets  \n2           simpson sku able  \n3       simpson strong  ties  \n4  simpson strong tie hcc668  ",
      "text/html": "<div>\n<style scoped>\n    .dataframe tbody tr th:only-of-type {\n        vertical-align: middle;\n    }\n\n    .dataframe tbody tr th {\n        vertical-align: top;\n    }\n\n    .dataframe thead th {\n        text-align: right;\n    }\n</style>\n<table border=\"1\" class=\"dataframe\">\n  <thead>\n    <tr style=\"text-align: right;\">\n      <th></th>\n      <th>id</th>\n      <th>product_uid</th>\n      <th>product_title</th>\n      <th>search_term</th>\n    </tr>\n  </thead>\n  <tbody>\n    <tr>\n      <th>0</th>\n      <td>1</td>\n      <td>100001</td>\n      <td>Simpson Strong-Tie 12-Gauge Angle</td>\n      <td>90 degree bracket</td>\n    </tr>\n    <tr>\n      <th>1</th>\n      <td>4</td>\n      <td>100001</td>\n      <td>Simpson Strong-Tie 12-Gauge Angle</td>\n      <td>metal l brackets</td>\n    </tr>\n    <tr>\n      <th>2</th>\n      <td>5</td>\n      <td>100001</td>\n      <td>Simpson Strong-Tie 12-Gauge Angle</td>\n      <td>simpson sku able</td>\n    </tr>\n    <tr>\n      <th>3</th>\n      <td>6</td>\n      <td>100001</td>\n      <td>Simpson Strong-Tie 12-Gauge Angle</td>\n      <td>simpson strong  ties</td>\n    </tr>\n    <tr>\n      <th>4</th>\n      <td>7</td>\n      <td>100001</td>\n      <td>Simpson Strong-Tie 12-Gauge Angle</td>\n      <td>simpson strong tie hcc668</td>\n    </tr>\n  </tbody>\n</table>\n</div>"
     },
     "execution_count": 8,
     "metadata": {},
     "output_type": "execute_result"
    }
   ],
   "source": [
    "test.head()"
   ],
   "metadata": {
    "collapsed": false,
    "ExecuteTime": {
     "end_time": "2024-03-11T13:11:42.169211Z",
     "start_time": "2024-03-11T13:11:42.156059Z"
    }
   },
   "id": "12a5d941b697b9b7",
   "execution_count": 8
  },
  {
   "cell_type": "code",
   "outputs": [],
   "source": [
    "product_descriptions = pd.read_csv('product_descriptions.csv', encoding='ISO-8859-1')"
   ],
   "metadata": {
    "collapsed": false,
    "ExecuteTime": {
     "end_time": "2024-03-11T13:11:43.462107Z",
     "start_time": "2024-03-11T13:11:42.684555Z"
    }
   },
   "id": "380b1517bd904060",
   "execution_count": 9
  },
  {
   "cell_type": "code",
   "outputs": [
    {
     "data": {
      "text/plain": "   product_uid                                product_description\n0       100001  Not only do angles make joints stronger, they ...\n1       100002  BEHR Premium Textured DECKOVER is an innovativ...\n2       100003  Classic architecture meets contemporary design...\n3       100004  The Grape Solar 265-Watt Polycrystalline PV So...\n4       100005  Update your bathroom with the Delta Vero Singl...",
      "text/html": "<div>\n<style scoped>\n    .dataframe tbody tr th:only-of-type {\n        vertical-align: middle;\n    }\n\n    .dataframe tbody tr th {\n        vertical-align: top;\n    }\n\n    .dataframe thead th {\n        text-align: right;\n    }\n</style>\n<table border=\"1\" class=\"dataframe\">\n  <thead>\n    <tr style=\"text-align: right;\">\n      <th></th>\n      <th>product_uid</th>\n      <th>product_description</th>\n    </tr>\n  </thead>\n  <tbody>\n    <tr>\n      <th>0</th>\n      <td>100001</td>\n      <td>Not only do angles make joints stronger, they ...</td>\n    </tr>\n    <tr>\n      <th>1</th>\n      <td>100002</td>\n      <td>BEHR Premium Textured DECKOVER is an innovativ...</td>\n    </tr>\n    <tr>\n      <th>2</th>\n      <td>100003</td>\n      <td>Classic architecture meets contemporary design...</td>\n    </tr>\n    <tr>\n      <th>3</th>\n      <td>100004</td>\n      <td>The Grape Solar 265-Watt Polycrystalline PV So...</td>\n    </tr>\n    <tr>\n      <th>4</th>\n      <td>100005</td>\n      <td>Update your bathroom with the Delta Vero Singl...</td>\n    </tr>\n  </tbody>\n</table>\n</div>"
     },
     "execution_count": 10,
     "metadata": {},
     "output_type": "execute_result"
    }
   ],
   "source": [
    "product_descriptions.head()"
   ],
   "metadata": {
    "collapsed": false,
    "ExecuteTime": {
     "end_time": "2024-03-11T13:11:43.464091Z",
     "start_time": "2024-03-11T13:11:43.460661Z"
    }
   },
   "id": "9db8dae17433754a",
   "execution_count": 10
  },
  {
   "cell_type": "code",
   "outputs": [],
   "source": [
    "sample_submission = pd.read_csv('sample_submission.csv', encoding='ISO-8859-1')"
   ],
   "metadata": {
    "collapsed": false,
    "ExecuteTime": {
     "end_time": "2024-03-11T13:11:43.654874Z",
     "start_time": "2024-03-11T13:11:43.598326Z"
    }
   },
   "id": "ececab5104eb3562",
   "execution_count": 11
  },
  {
   "cell_type": "code",
   "outputs": [
    {
     "data": {
      "text/plain": "   id  relevance\n0   1          1\n1   4          1\n2   5          1\n3   6          1\n4   7          1",
      "text/html": "<div>\n<style scoped>\n    .dataframe tbody tr th:only-of-type {\n        vertical-align: middle;\n    }\n\n    .dataframe tbody tr th {\n        vertical-align: top;\n    }\n\n    .dataframe thead th {\n        text-align: right;\n    }\n</style>\n<table border=\"1\" class=\"dataframe\">\n  <thead>\n    <tr style=\"text-align: right;\">\n      <th></th>\n      <th>id</th>\n      <th>relevance</th>\n    </tr>\n  </thead>\n  <tbody>\n    <tr>\n      <th>0</th>\n      <td>1</td>\n      <td>1</td>\n    </tr>\n    <tr>\n      <th>1</th>\n      <td>4</td>\n      <td>1</td>\n    </tr>\n    <tr>\n      <th>2</th>\n      <td>5</td>\n      <td>1</td>\n    </tr>\n    <tr>\n      <th>3</th>\n      <td>6</td>\n      <td>1</td>\n    </tr>\n    <tr>\n      <th>4</th>\n      <td>7</td>\n      <td>1</td>\n    </tr>\n  </tbody>\n</table>\n</div>"
     },
     "execution_count": 12,
     "metadata": {},
     "output_type": "execute_result"
    }
   ],
   "source": [
    "sample_submission.head()"
   ],
   "metadata": {
    "collapsed": false,
    "ExecuteTime": {
     "end_time": "2024-03-11T13:11:44.337029Z",
     "start_time": "2024-03-11T13:11:44.321833Z"
    }
   },
   "id": "ef30364d338a43ef",
   "execution_count": 12
  },
  {
   "cell_type": "markdown",
   "source": [
    "# Merging the Data with the Product Descriptions and the Solution File\n",
    "## taking only the relevant data from the solution file and merging it with the test data"
   ],
   "metadata": {
    "collapsed": false
   },
   "id": "dd57a509e2aec061"
  },
  {
   "cell_type": "code",
   "outputs": [],
   "source": [
    "train_with_descriptions = pd.merge(train, product_descriptions, on='product_uid')\n",
    "test_with_descriptions = pd.merge(test, product_descriptions, on='product_uid')"
   ],
   "metadata": {
    "collapsed": false,
    "ExecuteTime": {
     "end_time": "2024-03-11T13:11:46.559676Z",
     "start_time": "2024-03-11T13:11:46.512754Z"
    }
   },
   "id": "7e046dffca657326",
   "execution_count": 13
  },
  {
   "cell_type": "code",
   "outputs": [
    {
     "data": {
      "text/plain": "   id  relevance    Usage\n0   1      -1.00  Ignored\n1   4       2.33   Public\n2   5       2.33  Private\n3   6       2.67  Private\n4   7       2.00   Public",
      "text/html": "<div>\n<style scoped>\n    .dataframe tbody tr th:only-of-type {\n        vertical-align: middle;\n    }\n\n    .dataframe tbody tr th {\n        vertical-align: top;\n    }\n\n    .dataframe thead th {\n        text-align: right;\n    }\n</style>\n<table border=\"1\" class=\"dataframe\">\n  <thead>\n    <tr style=\"text-align: right;\">\n      <th></th>\n      <th>id</th>\n      <th>relevance</th>\n      <th>Usage</th>\n    </tr>\n  </thead>\n  <tbody>\n    <tr>\n      <th>0</th>\n      <td>1</td>\n      <td>-1.00</td>\n      <td>Ignored</td>\n    </tr>\n    <tr>\n      <th>1</th>\n      <td>4</td>\n      <td>2.33</td>\n      <td>Public</td>\n    </tr>\n    <tr>\n      <th>2</th>\n      <td>5</td>\n      <td>2.33</td>\n      <td>Private</td>\n    </tr>\n    <tr>\n      <th>3</th>\n      <td>6</td>\n      <td>2.67</td>\n      <td>Private</td>\n    </tr>\n    <tr>\n      <th>4</th>\n      <td>7</td>\n      <td>2.00</td>\n      <td>Public</td>\n    </tr>\n  </tbody>\n</table>\n</div>"
     },
     "execution_count": 16,
     "metadata": {},
     "output_type": "execute_result"
    }
   ],
   "source": [
    "solution = pd.read_csv('solution.csv', encoding='ISO-8859-1')\n",
    "solution.head()"
   ],
   "metadata": {
    "collapsed": false,
    "ExecuteTime": {
     "end_time": "2024-03-11T13:12:22.933326Z",
     "start_time": "2024-03-11T13:12:22.866318Z"
    }
   },
   "id": "522d83306dbbdabc",
   "execution_count": 16
  },
  {
   "cell_type": "code",
   "outputs": [],
   "source": [
    "test_with_descriptions = pd.merge(test_with_descriptions, solution, on='id')"
   ],
   "metadata": {
    "collapsed": false,
    "ExecuteTime": {
     "end_time": "2024-03-11T13:14:17.133566Z",
     "start_time": "2024-03-11T13:14:17.082103Z"
    }
   },
   "id": "99ffee0f9d1c5b9f",
   "execution_count": 18
  },
  {
   "cell_type": "code",
   "outputs": [],
   "source": [
    "test_with_descriptions = test_with_descriptions[test_with_descriptions['relevance'] > 0]"
   ],
   "metadata": {
    "collapsed": false,
    "ExecuteTime": {
     "end_time": "2024-03-11T13:16:44.274162Z",
     "start_time": "2024-03-11T13:16:44.215603Z"
    }
   },
   "id": "4dbfd5405827c31e",
   "execution_count": 30
  },
  {
   "cell_type": "markdown",
   "source": [
    "# Exploratory Data Analysis (EDA)"
   ],
   "metadata": {
    "collapsed": false
   },
   "id": "d1d738eb31c1717c"
  },
  {
   "cell_type": "code",
   "outputs": [
    {
     "name": "stdout",
     "output_type": "stream",
     "text": [
      "Train dataset shape: (74067, 6)\n",
      "Test dataset shape: (112067, 7)\n"
     ]
    }
   ],
   "source": [
    "print(f'Train dataset shape: {train_with_descriptions.shape}')\n",
    "print(f'Test dataset shape: {test_with_descriptions.shape}')"
   ],
   "metadata": {
    "collapsed": false,
    "ExecuteTime": {
     "end_time": "2024-03-11T13:16:46.116481Z",
     "start_time": "2024-03-11T13:16:46.101281Z"
    }
   },
   "id": "ebd0af2498393650",
   "execution_count": 31
  },
  {
   "cell_type": "code",
   "outputs": [
    {
     "data": {
      "text/plain": "id                                                                159743\nproduct_uid                                                       161669\nproduct_title          Masterbuilt 10 Qt. Propane Gas Outdoor Fryer a...\nsearch_term                                         propane turkey fryer\nrelevance                                                            3.0\nproduct_description    This liquefied propane (LP) turkey fryer and g...\nName: 52612, dtype: object"
     },
     "execution_count": 32,
     "metadata": {},
     "output_type": "execute_result"
    }
   ],
   "source": [
    "train_with_descriptions.sample(1).iloc[0]"
   ],
   "metadata": {
    "collapsed": false,
    "ExecuteTime": {
     "end_time": "2024-03-11T13:16:46.357664Z",
     "start_time": "2024-03-11T13:16:46.340780Z"
    }
   },
   "id": "501c95cf7b242c99",
   "execution_count": 32
  },
  {
   "cell_type": "code",
   "outputs": [
    {
     "data": {
      "text/plain": "<Figure size 1200x600 with 2 Axes>",
      "image/png": "[encoded data removed]"
     },
     "metadata": {},
     "output_type": "display_data"
    },
    {
     "data": {
      "text/plain": "<Figure size 1200x600 with 2 Axes>",
      "image/png": "[encoded data removed]"
     },
     "metadata": {},
     "output_type": "display_data"
    }
   ],
   "source": [
    "def plot_lengths_distribution(data, title):\n",
    "    fig, axes = plt.subplots(1, 2, figsize=(12, 6))\n",
    "    search_term_lengths = data['search_term'].apply(len)\n",
    "    product_description_lengths = data['product_description'].apply(len)\n",
    "    \n",
    "    axes[0].hist(search_term_lengths, bins=50)\n",
    "    axes[0].set_title(f'Search Term Lengths in the {title} Dataset')\n",
    "    axes[0].set_xlabel('Length')\n",
    "    axes[0].set_ylabel('Frequency')\n",
    "    axes[0].annotate(f'Mean: {search_term_lengths.mean():.2f}', xy=(0.5, 0.9), xycoords='axes fraction', ha='center', fontsize=12)\n",
    "    \n",
    "    axes[1].hist(product_description_lengths, bins=50)\n",
    "    axes[1].set_title(f'Product Description Lengths in the {title} Dataset')\n",
    "    axes[1].set_xlabel('Length')\n",
    "    axes[1].set_ylabel('Frequency')\n",
    "    axes[1].annotate(f'Mean: {product_description_lengths.mean():.2f}', xy=(0.5, 0.9), xycoords='axes fraction', ha='center', fontsize=12)\n",
    "    \n",
    "    plt.show()\n",
    "\n",
    "plot_lengths_distribution(train_with_descriptions, 'Training')\n",
    "plot_lengths_distribution(test_with_descriptions, 'Testing')"
   ],
   "metadata": {
    "collapsed": false,
    "ExecuteTime": {
     "end_time": "2024-03-11T13:16:46.977090Z",
     "start_time": "2024-03-11T13:16:46.642234Z"
    }
   },
   "id": "51acfcad4ed06242",
   "execution_count": 33
  },
  {
   "cell_type": "code",
   "outputs": [
    {
     "data": {
      "text/plain": "<Figure size 1200x600 with 1 Axes>",
      "image/png": "[encoded data removed]"
     },
     "metadata": {},
     "output_type": "display_data"
    }
   ],
   "source": [
    "def plot_relevance_distribution(data, title):\n",
    "    plt.figure(figsize=(12, 6))\n",
    "\n",
    "    plt.hist(data['relevance'], alpha=0.5, label=f'{title}', edgecolor='black')\n",
    "    plt.title(f'Relevance Scores Distribution in the {title} Dataset')\n",
    "    plt.xlabel('Relevance Score')\n",
    "    plt.ylabel('Frequency')\n",
    "    plt.legend()\n",
    "    plt.grid(axis='y', linestyle='--')\n",
    "    plt.show()\n",
    "\n",
    "plot_relevance_distribution(train_with_descriptions, 'Training')"
   ],
   "metadata": {
    "collapsed": false,
    "ExecuteTime": {
     "end_time": "2024-03-11T13:17:44.513734Z",
     "start_time": "2024-03-11T13:17:44.430702Z"
    }
   },
   "id": "ebbf5533b6309785",
   "execution_count": 36
  },
  {
   "cell_type": "code",
   "outputs": [
    {
     "data": {
      "text/plain": "<Figure size 1200x600 with 1 Axes>",
      "image/png": "[encoded data removed]"
     },
     "metadata": {},
     "output_type": "display_data"
    }
   ],
   "source": [
    "plot_relevance_distribution(test_with_descriptions, 'Testing')"
   ],
   "metadata": {
    "collapsed": false,
    "ExecuteTime": {
     "end_time": "2024-03-11T13:17:49.036210Z",
     "start_time": "2024-03-11T13:17:48.953575Z"
    }
   },
   "id": "27dba17ab2e4733f",
   "execution_count": 37
  },
  {
   "cell_type": "markdown",
   "source": [
    "# Preprocessing the Data"
   ],
   "metadata": {
    "collapsed": false
   },
   "id": "aa1d5108fc24b601"
  },
  {
   "cell_type": "code",
   "outputs": [],
   "source": [
    "ENGLISH_STOPWORDS = set(stopwords.words('english'))\n",
    "\n",
    "def remove_stopwords(text):\n",
    "    text = ' '.join([word for word in text.split() if word.lower() not in ENGLISH_STOPWORDS])\n",
    "    return text\n"
   ],
   "metadata": {
    "collapsed": false,
    "ExecuteTime": {
     "end_time": "2024-03-11T13:18:07.100067Z",
     "start_time": "2024-03-11T13:18:07.085409Z"
    }
   },
   "id": "451cef3dcea0431b",
   "execution_count": 38
  },
  {
   "cell_type": "code",
   "outputs": [],
   "source": [
    "train_with_descriptions['search_term'] = train_with_descriptions['search_term'].apply(remove_stopwords)\n",
    "train_with_descriptions['product_description'] = train_with_descriptions['product_description'].apply(remove_stopwords)\n",
    "test_with_descriptions['search_term'] = test_with_descriptions['search_term'].apply(remove_stopwords)\n",
    "test_with_descriptions['product_description'] = test_with_descriptions['product_description'].apply(remove_stopwords)"
   ],
   "metadata": {
    "collapsed": false,
    "ExecuteTime": {
     "end_time": "2024-03-11T13:18:12.780952Z",
     "start_time": "2024-03-11T13:18:10.285962Z"
    }
   },
   "id": "2381a257859a33ae",
   "execution_count": 39
  },
  {
   "cell_type": "code",
   "outputs": [],
   "source": [
    "train_data, val_data = train_test_split(train_with_descriptions, test_size=0.2, random_state=SEED)"
   ],
   "metadata": {
    "collapsed": false,
    "ExecuteTime": {
     "end_time": "2024-03-11T13:18:14.517647Z",
     "start_time": "2024-03-11T13:18:14.480398Z"
    }
   },
   "id": "70559864e5cb2d44",
   "execution_count": 40
  },
  {
   "cell_type": "code",
   "outputs": [
    {
     "data": {
      "text/plain": "           id  product_uid                                      product_title  \\\n26040   79859       123283              RIDGID 7 in. Continuous Diamond Blade   \n72488  216916       202725  Lyons Industries Style CB Top Mount Acrylic 33...   \n36043  110187       135931  Arlington Industries 12-1/2 in. x 11-1/4 in. P...   \n\n                                 search_term  relevance  \\\n26040                     wet tile saw blade       2.33   \n72488  33 x19 acrylic white double bowl sink       3.00   \n36043                          siding blocks       2.33   \n\n                                     product_description  \n26040  RIDGID diamond blade made Hi-Grade diamond pow...  \n72488  Lyons Industries high-gloss acrylic sinks manu...  \n36043  ARLINGTON INDUSTRIES INC 12-1/2 in. x 11-1/4 i...  ",
      "text/html": "<div>\n<style scoped>\n    .dataframe tbody tr th:only-of-type {\n        vertical-align: middle;\n    }\n\n    .dataframe tbody tr th {\n        vertical-align: top;\n    }\n\n    .dataframe thead th {\n        text-align: right;\n    }\n</style>\n<table border=\"1\" class=\"dataframe\">\n  <thead>\n    <tr style=\"text-align: right;\">\n      <th></th>\n      <th>id</th>\n      <th>product_uid</th>\n      <th>product_title</th>\n      <th>search_term</th>\n      <th>relevance</th>\n      <th>product_description</th>\n    </tr>\n  </thead>\n  <tbody>\n    <tr>\n      <th>26040</th>\n      <td>79859</td>\n      <td>123283</td>\n      <td>RIDGID 7 in. Continuous Diamond Blade</td>\n      <td>wet tile saw blade</td>\n      <td>2.33</td>\n      <td>RIDGID diamond blade made Hi-Grade diamond pow...</td>\n    </tr>\n    <tr>\n      <th>72488</th>\n      <td>216916</td>\n      <td>202725</td>\n      <td>Lyons Industries Style CB Top Mount Acrylic 33...</td>\n      <td>33 x19 acrylic white double bowl sink</td>\n      <td>3.00</td>\n      <td>Lyons Industries high-gloss acrylic sinks manu...</td>\n    </tr>\n    <tr>\n      <th>36043</th>\n      <td>110187</td>\n      <td>135931</td>\n      <td>Arlington Industries 12-1/2 in. x 11-1/4 in. P...</td>\n      <td>siding blocks</td>\n      <td>2.33</td>\n      <td>ARLINGTON INDUSTRIES INC 12-1/2 in. x 11-1/4 i...</td>\n    </tr>\n  </tbody>\n</table>\n</div>"
     },
     "execution_count": 41,
     "metadata": {},
     "output_type": "execute_result"
    }
   ],
   "source": [
    "train_data.head(3)"
   ],
   "metadata": {
    "collapsed": false,
    "ExecuteTime": {
     "end_time": "2024-03-11T13:18:15.197945Z",
     "start_time": "2024-03-11T13:18:15.182505Z"
    }
   },
   "id": "686c24696767fb37",
   "execution_count": 41
  },
  {
   "cell_type": "code",
   "outputs": [
    {
     "data": {
      "text/plain": "((59253, 6), (14814, 6))"
     },
     "execution_count": 42,
     "metadata": {},
     "output_type": "execute_result"
    }
   ],
   "source": [
    "train_data.shape, val_data.shape"
   ],
   "metadata": {
    "collapsed": false,
    "ExecuteTime": {
     "end_time": "2024-03-11T13:18:16.405728Z",
     "start_time": "2024-03-11T13:18:16.367657Z"
    }
   },
   "id": "6950b36c39e282f1",
   "execution_count": 42
  },
  {
   "cell_type": "markdown",
   "source": [
    "# Building a Character-Level Siamese Network"
   ],
   "metadata": {
    "collapsed": false
   },
   "id": "951456f96b0c7a96"
  },
  {
   "cell_type": "code",
   "outputs": [],
   "source": [
    "def yield_tokens(data_iter):\n",
    "    for text in data_iter:\n",
    "        yield list(text)\n",
    "\n",
    "all_texts = pd.concat([\n",
    "    train_with_descriptions['search_term'], \n",
    "    train_with_descriptions['product_description'],\n",
    "])\n",
    "\n",
    "vocab = build_vocab_from_iterator(yield_tokens(all_texts), specials=['<unk>'])\n",
    "vocab.set_default_index(vocab['<unk>'])  \n",
    "\n",
    "\n",
    "def encode_sequence(sequence, vocab):\n",
    "    return [vocab[token] for token in list(sequence)]\n",
    "\n",
    "test_with_descriptions['search_term_encoded'] = test_with_descriptions['search_term'].apply(lambda x: encode_sequence(x, vocab))\n",
    "test_with_descriptions['product_description_encoded'] = test_with_descriptions['product_description'].apply(lambda x: encode_sequence(x, vocab))\n",
    "\n",
    "train_data['search_term_encoded'] = train_data['search_term'].apply(lambda x: encode_sequence(x, vocab))\n",
    "train_data['product_description_encoded'] = train_data['product_description'].apply(lambda x: encode_sequence(x, vocab))\n",
    "val_data['search_term_encoded'] = val_data['search_term'].apply(lambda x: encode_sequence(x, vocab))\n",
    "val_data['product_description_encoded'] = val_data['product_description'].apply(lambda x: encode_sequence(x, vocab))"
   ],
   "metadata": {
    "collapsed": false,
    "ExecuteTime": {
     "end_time": "2024-03-11T13:18:58.793922Z",
     "start_time": "2024-03-11T13:18:30.360470Z"
    }
   },
   "id": "eb2b5f2030477e65",
   "execution_count": 43
  },
  {
   "cell_type": "code",
   "outputs": [
    {
     "data": {
      "text/plain": "                                     search_term_encoded  \\\n26040  [22, 2, 4, 1, 4, 3, 10, 2, 1, 6, 5, 22, 1, 20,...   \n72488  [38, 38, 1, 30, 27, 64, 1, 5, 11, 7, 19, 10, 3...   \n36043      [6, 3, 12, 3, 8, 16, 1, 20, 10, 9, 11, 25, 6]   \n29406              [23, 5, 11, 13, 13, 15, 1, 20, 5, 16]   \n50856  [10, 5, 7, 16, 2, 1, 5, 7, 2, 5, 1, 7, 13, 16, 6]   \n\n                             product_description_encoded  \n26040  [43, 49, 34, 55, 49, 34, 1, 12, 3, 5, 15, 9, 8...  \n72488  [40, 19, 9, 8, 6, 1, 49, 8, 12, 13, 6, 4, 7, 3...  \n36043  [35, 43, 40, 49, 60, 55, 42, 62, 60, 1, 49, 60...  \n29406  [32, 7, 5, 4, 4, 1, 43, 2, 4, 5, 3, 10, 1, 31,...  \n50856  [31, 4, 2, 14, 1, 11, 9, 10, 10, 2, 11, 4, 3, ...  ",
      "text/html": "<div>\n<style scoped>\n    .dataframe tbody tr th:only-of-type {\n        vertical-align: middle;\n    }\n\n    .dataframe tbody tr th {\n        vertical-align: top;\n    }\n\n    .dataframe thead th {\n        text-align: right;\n    }\n</style>\n<table border=\"1\" class=\"dataframe\">\n  <thead>\n    <tr style=\"text-align: right;\">\n      <th></th>\n      <th>search_term_encoded</th>\n      <th>product_description_encoded</th>\n    </tr>\n  </thead>\n  <tbody>\n    <tr>\n      <th>26040</th>\n      <td>[22, 2, 4, 1, 4, 3, 10, 2, 1, 6, 5, 22, 1, 20,...</td>\n      <td>[43, 49, 34, 55, 49, 34, 1, 12, 3, 5, 15, 9, 8...</td>\n    </tr>\n    <tr>\n      <th>72488</th>\n      <td>[38, 38, 1, 30, 27, 64, 1, 5, 11, 7, 19, 10, 3...</td>\n      <td>[40, 19, 9, 8, 6, 1, 49, 8, 12, 13, 6, 4, 7, 3...</td>\n    </tr>\n    <tr>\n      <th>36043</th>\n      <td>[6, 3, 12, 3, 8, 16, 1, 20, 10, 9, 11, 25, 6]</td>\n      <td>[35, 43, 40, 49, 60, 55, 42, 62, 60, 1, 49, 60...</td>\n    </tr>\n    <tr>\n      <th>29406</th>\n      <td>[23, 5, 11, 13, 13, 15, 1, 20, 5, 16]</td>\n      <td>[32, 7, 5, 4, 4, 1, 43, 2, 4, 5, 3, 10, 1, 31,...</td>\n    </tr>\n    <tr>\n      <th>50856</th>\n      <td>[10, 5, 7, 16, 2, 1, 5, 7, 2, 5, 1, 7, 13, 16, 6]</td>\n      <td>[31, 4, 2, 14, 1, 11, 9, 10, 10, 2, 11, 4, 3, ...</td>\n    </tr>\n  </tbody>\n</table>\n</div>"
     },
     "execution_count": 44,
     "metadata": {},
     "output_type": "execute_result"
    }
   ],
   "source": [
    "train_data[['search_term_encoded', 'product_description_encoded']].head()"
   ],
   "metadata": {
    "collapsed": false,
    "ExecuteTime": {
     "end_time": "2024-03-11T13:19:00.087010Z",
     "start_time": "2024-03-11T13:19:00.023699Z"
    }
   },
   "id": "ca8410e8134465a5",
   "execution_count": 44
  },
  {
   "cell_type": "code",
   "outputs": [
    {
     "data": {
      "text/plain": "                                 search_term_encoded  \\\n1  [15, 2, 4, 5, 10, 1, 10, 1, 20, 7, 5, 11, 25, ...   \n2  [6, 3, 15, 14, 6, 9, 8, 1, 6, 25, 13, 1, 5, 20...   \n3  [6, 3, 15, 14, 6, 9, 8, 1, 6, 4, 7, 9, 8, 16, ...   \n4  [6, 3, 15, 14, 6, 9, 8, 1, 6, 4, 7, 9, 8, 16, ...   \n6  [20, 5, 4, 17, 1, 6, 17, 9, 22, 2, 7, 1, 25, 3...   \n\n                         product_description_encoded  \n1  [5, 8, 16, 10, 2, 6, 1, 15, 5, 25, 2, 1, 59, 9...  \n2  [5, 8, 16, 10, 2, 6, 1, 15, 5, 25, 2, 1, 59, 9...  \n3  [5, 8, 16, 10, 2, 6, 1, 15, 5, 25, 2, 1, 59, 9...  \n4  [5, 8, 16, 10, 2, 6, 1, 15, 5, 25, 2, 1, 59, 9...  \n6  [29, 10, 5, 6, 6, 3, 11, 1, 5, 7, 11, 17, 3, 4...  ",
      "text/html": "<div>\n<style scoped>\n    .dataframe tbody tr th:only-of-type {\n        vertical-align: middle;\n    }\n\n    .dataframe tbody tr th {\n        vertical-align: top;\n    }\n\n    .dataframe thead th {\n        text-align: right;\n    }\n</style>\n<table border=\"1\" class=\"dataframe\">\n  <thead>\n    <tr style=\"text-align: right;\">\n      <th></th>\n      <th>search_term_encoded</th>\n      <th>product_description_encoded</th>\n    </tr>\n  </thead>\n  <tbody>\n    <tr>\n      <th>1</th>\n      <td>[15, 2, 4, 5, 10, 1, 10, 1, 20, 7, 5, 11, 25, ...</td>\n      <td>[5, 8, 16, 10, 2, 6, 1, 15, 5, 25, 2, 1, 59, 9...</td>\n    </tr>\n    <tr>\n      <th>2</th>\n      <td>[6, 3, 15, 14, 6, 9, 8, 1, 6, 25, 13, 1, 5, 20...</td>\n      <td>[5, 8, 16, 10, 2, 6, 1, 15, 5, 25, 2, 1, 59, 9...</td>\n    </tr>\n    <tr>\n      <th>3</th>\n      <td>[6, 3, 15, 14, 6, 9, 8, 1, 6, 4, 7, 9, 8, 16, ...</td>\n      <td>[5, 8, 16, 10, 2, 6, 1, 15, 5, 25, 2, 1, 59, 9...</td>\n    </tr>\n    <tr>\n      <th>4</th>\n      <td>[6, 3, 15, 14, 6, 9, 8, 1, 6, 4, 7, 9, 8, 16, ...</td>\n      <td>[5, 8, 16, 10, 2, 6, 1, 15, 5, 25, 2, 1, 59, 9...</td>\n    </tr>\n    <tr>\n      <th>6</th>\n      <td>[20, 5, 4, 17, 1, 6, 17, 9, 22, 2, 7, 1, 25, 3...</td>\n      <td>[29, 10, 5, 6, 6, 3, 11, 1, 5, 7, 11, 17, 3, 4...</td>\n    </tr>\n  </tbody>\n</table>\n</div>"
     },
     "execution_count": 45,
     "metadata": {},
     "output_type": "execute_result"
    }
   ],
   "source": [
    "test_with_descriptions[['search_term_encoded', 'product_description_encoded']].head()"
   ],
   "metadata": {
    "collapsed": false,
    "ExecuteTime": {
     "end_time": "2024-03-11T13:19:00.823083Z",
     "start_time": "2024-03-11T13:19:00.815571Z"
    }
   },
   "id": "df80caee9ea265f6",
   "execution_count": 45
  },
  {
   "cell_type": "markdown",
   "source": [
    "# Building the Dataset and Dataloader"
   ],
   "metadata": {
    "collapsed": false
   },
   "id": "60c658744c875c0d"
  },
  {
   "cell_type": "code",
   "outputs": [],
   "source": [
    "class CharRelevanceDataset(Dataset):\n",
    "    def __init__(self, df):\n",
    "        self.df = df\n",
    "        self.search_terms = list(df['search_term_encoded'])\n",
    "        self.descriptions = list(df['product_description_encoded'])\n",
    "        self.relevances = df['relevance'].values\n",
    "    def __len__(self):\n",
    "        return len(self.search_terms)\n",
    "\n",
    "    def __getitem__(self, idx):\n",
    "        search_term = torch.tensor(self.search_terms[idx], dtype=torch.long)\n",
    "        description = torch.tensor(self.descriptions[idx], dtype=torch.long)\n",
    "        relevance = torch.tensor(self.relevances[idx], dtype=torch.float32)\n",
    "        return search_term, description, relevance\n",
    "        "
   ],
   "metadata": {
    "collapsed": false,
    "ExecuteTime": {
     "end_time": "2024-03-11T13:19:29.097521Z",
     "start_time": "2024-03-11T13:19:29.064109Z"
    }
   },
   "id": "f7a9ae13fa043924",
   "execution_count": 46
  },
  {
   "cell_type": "code",
   "outputs": [],
   "source": [
    "train_dataset = CharRelevanceDataset(train_data)\n",
    "val_dataset = CharRelevanceDataset(val_data)\n",
    "test_dataset = CharRelevanceDataset(test_with_descriptions)"
   ],
   "metadata": {
    "collapsed": false,
    "ExecuteTime": {
     "end_time": "2024-03-11T13:19:31.261441Z",
     "start_time": "2024-03-11T13:19:31.237995Z"
    }
   },
   "id": "2214f1486d3b3d68",
   "execution_count": 47
  },
  {
   "cell_type": "code",
   "outputs": [],
   "source": [
    "def collate_fn(batch):\n",
    "    search_terms = pad_sequence([item[0] for item in batch], batch_first=True, padding_value=0)\n",
    "    descriptions = pad_sequence([item[1] for item in batch], batch_first=True, padding_value=0)\n",
    "    relevances = torch.tensor([item[2] for item in batch], dtype=torch.float32)\n",
    "    return search_terms, descriptions, relevances"
   ],
   "metadata": {
    "collapsed": false,
    "ExecuteTime": {
     "end_time": "2024-03-11T13:19:32.286745Z",
     "start_time": "2024-03-11T13:19:32.267023Z"
    }
   },
   "id": "3a77f16c5675774a",
   "execution_count": 48
  },
  {
   "cell_type": "code",
   "outputs": [],
   "source": [
    "train_dataloader = DataLoader(train_dataset, batch_size=32, shuffle=True, collate_fn=collate_fn)\n",
    "val_dataloader = DataLoader(val_dataset, batch_size=32, shuffle=False, collate_fn=collate_fn)\n",
    "test_dataloader = DataLoader(test_dataset, batch_size=32, shuffle=False, collate_fn=collate_fn)"
   ],
   "metadata": {
    "collapsed": false,
    "ExecuteTime": {
     "end_time": "2024-03-11T13:19:33.233942Z",
     "start_time": "2024-03-11T13:19:33.224522Z"
    }
   },
   "id": "178600b0e8aa5915",
   "execution_count": 49
  },
  {
   "cell_type": "code",
   "outputs": [
    {
     "name": "stdout",
     "output_type": "stream",
     "text": [
      "tensor([[15,  2,  4,  ...,  0,  0,  0],\n",
      "        [ 6,  3, 15,  ...,  0,  0,  0],\n",
      "        [ 6,  3, 15,  ...,  0,  0,  0],\n",
      "        ...,\n",
      "        [ 6,  4,  2,  ...,  0,  0,  0],\n",
      "        [50, 18,  4,  ...,  0,  0,  0],\n",
      "        [20,  5, 15,  ...,  0,  0,  0]]) tensor([[ 5,  8, 16,  ...,  0,  0,  0],\n",
      "        [ 5,  8, 16,  ...,  0,  0,  0],\n",
      "        [ 5,  8, 16,  ...,  0,  0,  0],\n",
      "        ...,\n",
      "        [43, 13, 20,  ...,  0,  0,  0],\n",
      "        [48,  5, 11,  ...,  0,  0,  0],\n",
      "        [48,  5, 11,  ...,  0,  0,  0]]) tensor([2.3300, 2.3300, 2.6700, 2.0000, 2.6700, 2.0000, 3.0000, 2.0000, 2.6700,\n",
      "        3.0000, 2.3300, 2.0000, 2.0000, 1.0000, 2.0000, 2.6700, 3.0000, 3.0000,\n",
      "        2.6700, 2.6700, 2.3300, 2.6700, 2.0000, 3.0000, 3.0000, 1.0000, 1.6700,\n",
      "        2.0000, 2.3300, 1.3300, 2.3300, 3.0000])\n",
      "torch.Size([32, 33]) torch.Size([32, 1859]) torch.Size([32])\n"
     ]
    }
   ],
   "source": [
    "for batch in test_dataloader:\n",
    "    search_term, description, relevance = batch\n",
    "    print(search_term, description, relevance)\n",
    "    print(search_term.shape, description.shape, relevance.shape)\n",
    "    break"
   ],
   "metadata": {
    "collapsed": false,
    "ExecuteTime": {
     "end_time": "2024-03-11T13:19:42.849735Z",
     "start_time": "2024-03-11T13:19:42.812912Z"
    }
   },
   "id": "456f608965c0495c",
   "execution_count": 51
  },
  {
   "cell_type": "markdown",
   "source": [
    "# Building a Character-Level Siamese Network"
   ],
   "metadata": {
    "collapsed": false
   },
   "id": "80d2c0eab1476d7c"
  },
  {
   "cell_type": "code",
   "outputs": [],
   "source": [
    "class Siamese_Character_Model(L.LightningModule):\n",
    "    def __init__(self, vocab_size=len(vocab)+1, embedding_dim=1, hidden_dim=64):\n",
    "        super().__init__()\n",
    "        self.embedding1 = nn.Embedding(vocab_size, embedding_dim)\n",
    "        self.lstm1 = nn.LSTM(embedding_dim, hidden_dim, batch_first=True, num_layers=3)\n",
    "        self.dropout1 = nn.Dropout(0.3)\n",
    "        self.bn11 = nn.BatchNorm1d(hidden_dim)\n",
    "        self.bn21 = nn.BatchNorm1d(128)\n",
    "        self.fc11 = nn.Linear(hidden_dim, 128)\n",
    "        self.fc21 = nn.Linear(128, 32)\n",
    "        \n",
    "        \n",
    "        \n",
    "        self.embedding2 = nn.Embedding(vocab_size, embedding_dim)\n",
    "        self.lstm2 = nn.LSTM(embedding_dim, hidden_dim, batch_first=True, num_layers=3)\n",
    "        self.dropout2 = nn.Dropout(0.3)\n",
    "        self.bn12 = nn.BatchNorm1d(hidden_dim)\n",
    "        self.bn22 = nn.BatchNorm1d(128)\n",
    "        self.fc12 = nn.Linear(hidden_dim, 128)\n",
    "        self.fc22 = nn.Linear(128, 32)\n",
    "        \n",
    "        self.out = nn.Linear(32, 1)\n",
    "        \n",
    "    def first_forward(self, x):\n",
    "        x = self.embedding1(x)\n",
    "        _, (h_n, _) = self.lstm1(x)\n",
    "        h_n_last = h_n[-1,:,:]\n",
    "        x = self.bn11(h_n_last)\n",
    "        x = self.fc11(x)\n",
    "        x = self.bn21(x)\n",
    "        x = self.dropout1(x)\n",
    "        x = self.fc21(x)\n",
    "        return x\n",
    "    \n",
    "    def second_forward(self, x):\n",
    "        x = self.embedding2(x)\n",
    "        _, (h_n, _) = self.lstm2(x)\n",
    "        h_n_last = h_n[-1,:,:]\n",
    "        x = self.bn12(h_n_last)\n",
    "        x = self.fc12(x)\n",
    "        x = self.bn22(x)\n",
    "        x = self.dropout2(x)\n",
    "        x = self.fc22(x)\n",
    "        return x\n",
    "\n",
    "    def forward(self, x1, x2):\n",
    "        x1 = self.first_forward(x1)\n",
    "        x2 = self.second_forward(x2)\n",
    "        difference = torch.abs(x1 - x2)\n",
    "        output = self.out(difference)\n",
    "        return output\n",
    "    \n",
    "    def training_step(self, batch, batch_idx):\n",
    "        x1, x2, y = batch\n",
    "        y_pred = self(x1, x2).squeeze()\n",
    "        mse_loss = nn.MSELoss()(y.float(), y_pred)\n",
    "        rmse = torch.sqrt(mse_loss)\n",
    "        loss = nn.L1Loss()(y.float(), y_pred)\n",
    "        self.log('train_loss', loss, on_step=True, on_epoch=True, prog_bar=True, logger=True)\n",
    "        self.log('train_rmse', rmse, on_step=True, on_epoch=True, prog_bar=True, logger=True)\n",
    "        return loss\n",
    "    \n",
    "    def validation_step(self, batch, batch_idx):\n",
    "        x1, x2, y = batch\n",
    "        y_pred = self(x1, x2).squeeze()\n",
    "        mse_loss = nn.MSELoss()(y.float(), y_pred)\n",
    "        rmse = torch.sqrt(mse_loss)\n",
    "        loss = nn.L1Loss()(y.float(), y_pred)\n",
    "        self.log('val_loss', loss, on_step=True, on_epoch=True, prog_bar=True, logger=True)\n",
    "        self.log('val_rmse', rmse, on_step=True, on_epoch=True, prog_bar=True, logger=True)\n",
    "        return loss\n",
    "    \n",
    "    def configure_optimizers(self):\n",
    "        return optim.Adam(self.parameters(), lr=1e-3)\n",
    "        \n",
    "                \n",
    "        "
   ],
   "metadata": {
    "collapsed": false,
    "ExecuteTime": {
     "end_time": "2024-03-11T15:54:37.687563Z",
     "start_time": "2024-03-11T15:54:37.661624Z"
    }
   },
   "id": "2fe3420250f848bc",
   "execution_count": 76
  },
  {
   "cell_type": "code",
   "outputs": [],
   "source": [
    "def train_model(model, model_class, train_dataloader, val_dataloader, folder_name, model_name, max_epochs=10, patience=5):\n",
    "    checkpoint_callback = ModelCheckpoint(monitor='val_loss', save_top_k=1, mode='min')\n",
    "    early_stopping_callback = EarlyStopping(monitor='val_loss', patience=patience, mode='min', verbose=True)\n",
    "    logger = TensorBoardLogger(folder_name, name=model_name)\n",
    "    trainer = L.Trainer(max_epochs=max_epochs, callbacks=[checkpoint_callback, early_stopping_callback], logger=logger)\n",
    "    trainer.fit(model, train_dataloader, val_dataloader)\n",
    "    model = model_class.load_from_checkpoint(checkpoint_callback.best_model_path)\n",
    "    return model"
   ],
   "metadata": {
    "collapsed": false,
    "ExecuteTime": {
     "end_time": "2024-03-11T15:54:38.709976Z",
     "start_time": "2024-03-11T15:54:38.664884Z"
    }
   },
   "id": "f26f0892508a7bf0",
   "execution_count": 77
  },
  {
   "cell_type": "code",
   "outputs": [
    {
     "name": "stderr",
     "output_type": "stream",
     "text": [
      "GPU available: True (mps), used: True\n",
      "TPU available: False, using: 0 TPU cores\n",
      "IPU available: False, using: 0 IPUs\n",
      "HPU available: False, using: 0 HPUs\n",
      "Missing logger folder: final_siamese_char_logs/final_siamese_char_model\n",
      "\n",
      "   | Name       | Type        | Params\n",
      "--------------------------------------------\n",
      "0  | embedding1 | Embedding   | 96    \n",
      "1  | lstm1      | LSTM        | 83.7 K\n",
      "2  | dropout1   | Dropout     | 0     \n",
      "3  | bn11       | BatchNorm1d | 128   \n",
      "4  | bn21       | BatchNorm1d | 256   \n",
      "5  | fc11       | Linear      | 8.3 K \n",
      "6  | fc21       | Linear      | 4.1 K \n",
      "7  | embedding2 | Embedding   | 96    \n",
      "8  | lstm2      | LSTM        | 83.7 K\n",
      "9  | dropout2   | Dropout     | 0     \n",
      "10 | bn12       | BatchNorm1d | 128   \n",
      "11 | bn22       | BatchNorm1d | 256   \n",
      "12 | fc12       | Linear      | 8.3 K \n",
      "13 | fc22       | Linear      | 4.1 K \n",
      "14 | out        | Linear      | 33    \n",
      "--------------------------------------------\n",
      "193 K     Trainable params\n",
      "0         Non-trainable params\n",
      "193 K     Total params\n",
      "0.773     Total estimated model params size (MB)\n"
     ]
    },
    {
     "data": {
      "text/plain": "Sanity Checking: 0it [00:00, ?it/s]",
      "application/vnd.jupyter.widget-view+json": {
       "version_major": 2,
       "version_minor": 0,
       "model_id": "eefe5edaaa624b91bcb8354d67a95257"
      }
     },
     "metadata": {},
     "output_type": "display_data"
    },
    {
     "name": "stderr",
     "output_type": "stream",
     "text": [
      "/Users/ofekglik/miniconda3/lib/python3.11/site-packages/lightning/pytorch/trainer/connectors/data_connector.py:442: PossibleUserWarning: The dataloader, val_dataloader, does not have many workers which may be a bottleneck. Consider increasing the value of the `num_workers` argument` (try 10 which is the number of cpus on this machine) in the `DataLoader` init to improve performance.\n",
      "  rank_zero_warn(\n",
      "/Users/ofekglik/miniconda3/lib/python3.11/site-packages/lightning/pytorch/trainer/connectors/data_connector.py:442: PossibleUserWarning: The dataloader, train_dataloader, does not have many workers which may be a bottleneck. Consider increasing the value of the `num_workers` argument` (try 10 which is the number of cpus on this machine) in the `DataLoader` init to improve performance.\n",
      "  rank_zero_warn(\n"
     ]
    },
    {
     "data": {
      "text/plain": "Training: 0it [00:02, ?it/s]",
      "application/vnd.jupyter.widget-view+json": {
       "version_major": 2,
       "version_minor": 0,
       "model_id": "c8c7c2b3fb75464a84f918ef111c9cab"
      }
     },
     "metadata": {},
     "output_type": "display_data"
    },
    {
     "data": {
      "text/plain": "Validation: 0it [00:00, ?it/s]",
      "application/vnd.jupyter.widget-view+json": {
       "version_major": 2,
       "version_minor": 0,
       "model_id": "2dfda99f9779480eae44acc8a314e0ed"
      }
     },
     "metadata": {},
     "output_type": "display_data"
    },
    {
     "name": "stderr",
     "output_type": "stream",
     "text": [
      "Metric val_loss improved. New best score: 0.465\n"
     ]
    },
    {
     "data": {
      "text/plain": "Validation: 0it [00:00, ?it/s]",
      "application/vnd.jupyter.widget-view+json": {
       "version_major": 2,
       "version_minor": 0,
       "model_id": "a51abd5e9f984ef79b7021640ee10f59"
      }
     },
     "metadata": {},
     "output_type": "display_data"
    },
    {
     "data": {
      "text/plain": "Validation: 0it [00:00, ?it/s]",
      "application/vnd.jupyter.widget-view+json": {
       "version_major": 2,
       "version_minor": 0,
       "model_id": "33692e22188941c48404ad67ae546c4a"
      }
     },
     "metadata": {},
     "output_type": "display_data"
    },
    {
     "name": "stderr",
     "output_type": "stream",
     "text": [
      "Metric val_loss improved by 0.006 >= min_delta = 0.0. New best score: 0.459\n"
     ]
    },
    {
     "data": {
      "text/plain": "Validation: 0it [00:00, ?it/s]",
      "application/vnd.jupyter.widget-view+json": {
       "version_major": 2,
       "version_minor": 0,
       "model_id": "11789ec43031485fbdb08b11f7996f8b"
      }
     },
     "metadata": {},
     "output_type": "display_data"
    },
    {
     "data": {
      "text/plain": "Validation: 0it [00:00, ?it/s]",
      "application/vnd.jupyter.widget-view+json": {
       "version_major": 2,
       "version_minor": 0,
       "model_id": "806ece0c506c4fa2bacaeef66eb6419d"
      }
     },
     "metadata": {},
     "output_type": "display_data"
    },
    {
     "data": {
      "text/plain": "Validation: 0it [00:00, ?it/s]",
      "application/vnd.jupyter.widget-view+json": {
       "version_major": 2,
       "version_minor": 0,
       "model_id": "005851f232ce48f2a8166c01b91486b2"
      }
     },
     "metadata": {},
     "output_type": "display_data"
    },
    {
     "name": "stderr",
     "output_type": "stream",
     "text": [
      "Metric val_loss improved by 0.005 >= min_delta = 0.0. New best score: 0.454\n"
     ]
    },
    {
     "data": {
      "text/plain": "Validation: 0it [00:00, ?it/s]",
      "application/vnd.jupyter.widget-view+json": {
       "version_major": 2,
       "version_minor": 0,
       "model_id": "afb40293e2a249518c3eb19973702bfd"
      }
     },
     "metadata": {},
     "output_type": "display_data"
    },
    {
     "data": {
      "text/plain": "Validation: 0it [00:00, ?it/s]",
      "application/vnd.jupyter.widget-view+json": {
       "version_major": 2,
       "version_minor": 0,
       "model_id": "6ac08ea39269402b9113305511299d65"
      }
     },
     "metadata": {},
     "output_type": "display_data"
    },
    {
     "name": "stderr",
     "output_type": "stream",
     "text": [
      "Metric val_loss improved by 0.006 >= min_delta = 0.0. New best score: 0.448\n"
     ]
    },
    {
     "data": {
      "text/plain": "Validation: 0it [00:00, ?it/s]",
      "application/vnd.jupyter.widget-view+json": {
       "version_major": 2,
       "version_minor": 0,
       "model_id": "28696a780eff42299e8e614d02d3e48d"
      }
     },
     "metadata": {},
     "output_type": "display_data"
    },
    {
     "data": {
      "text/plain": "Validation: 0it [00:00, ?it/s]",
      "application/vnd.jupyter.widget-view+json": {
       "version_major": 2,
       "version_minor": 0,
       "model_id": "c54e670732c541cb9e3d116a6c2c250f"
      }
     },
     "metadata": {},
     "output_type": "display_data"
    },
    {
     "data": {
      "text/plain": "Validation: 0it [00:00, ?it/s]",
      "application/vnd.jupyter.widget-view+json": {
       "version_major": 2,
       "version_minor": 0,
       "model_id": "43e0dd6ef0e24605b4eb29fe16b2e315"
      }
     },
     "metadata": {},
     "output_type": "display_data"
    },
    {
     "name": "stderr",
     "output_type": "stream",
     "text": [
      "Metric val_loss improved by 0.002 >= min_delta = 0.0. New best score: 0.446\n"
     ]
    },
    {
     "data": {
      "text/plain": "Validation: 0it [00:00, ?it/s]",
      "application/vnd.jupyter.widget-view+json": {
       "version_major": 2,
       "version_minor": 0,
       "model_id": "09855169c6144959a1248eb113e81e7a"
      }
     },
     "metadata": {},
     "output_type": "display_data"
    },
    {
     "data": {
      "text/plain": "Validation: 0it [00:00, ?it/s]",
      "application/vnd.jupyter.widget-view+json": {
       "version_major": 2,
       "version_minor": 0,
       "model_id": "e6ecc1f2d0284246a135033c7d026374"
      }
     },
     "metadata": {},
     "output_type": "display_data"
    },
    {
     "data": {
      "text/plain": "Validation: 0it [00:00, ?it/s]",
      "application/vnd.jupyter.widget-view+json": {
       "version_major": 2,
       "version_minor": 0,
       "model_id": "ebdb4e590fd04299baa68dcbc42b7ead"
      }
     },
     "metadata": {},
     "output_type": "display_data"
    },
    {
     "data": {
      "text/plain": "Validation: 0it [00:00, ?it/s]",
      "application/vnd.jupyter.widget-view+json": {
       "version_major": 2,
       "version_minor": 0,
       "model_id": "42040d6432c4447b9dbccb162dc4b6ed"
      }
     },
     "metadata": {},
     "output_type": "display_data"
    },
    {
     "name": "stderr",
     "output_type": "stream",
     "text": [
      "Metric val_loss improved by 0.003 >= min_delta = 0.0. New best score: 0.442\n",
      "`Trainer.fit` stopped: `max_epochs=15` reached.\n"
     ]
    }
   ],
   "source": [
    "first_model = train_model(Siamese_Character_Model(), Siamese_Character_Model,train_dataloader, val_dataloader, 'final_siamese_char_logs', 'final_siamese_char_model', max_epochs=15, patience=5)"
   ],
   "metadata": {
    "collapsed": false,
    "ExecuteTime": {
     "end_time": "2024-03-11T18:27:30.462703Z",
     "start_time": "2024-03-11T15:54:50.538323Z"
    }
   },
   "id": "448a6f5d72391111",
   "execution_count": 78
  },
  {
   "cell_type": "code",
   "outputs": [
    {
     "data": {
      "text/plain": "Siamese_Character_Model(\n  (embedding1): Embedding(96, 1)\n  (lstm1): LSTM(1, 64, num_layers=3, batch_first=True)\n  (dropout1): Dropout(p=0.3, inplace=False)\n  (bn11): BatchNorm1d(64, eps=1e-05, momentum=0.1, affine=True, track_running_stats=True)\n  (bn21): BatchNorm1d(128, eps=1e-05, momentum=0.1, affine=True, track_running_stats=True)\n  (fc11): Linear(in_features=64, out_features=128, bias=True)\n  (fc21): Linear(in_features=128, out_features=32, bias=True)\n  (embedding2): Embedding(96, 1)\n  (lstm2): LSTM(1, 64, num_layers=3, batch_first=True)\n  (dropout2): Dropout(p=0.3, inplace=False)\n  (bn12): BatchNorm1d(64, eps=1e-05, momentum=0.1, affine=True, track_running_stats=True)\n  (bn22): BatchNorm1d(128, eps=1e-05, momentum=0.1, affine=True, track_running_stats=True)\n  (fc12): Linear(in_features=64, out_features=128, bias=True)\n  (fc22): Linear(in_features=128, out_features=32, bias=True)\n  (out): Linear(in_features=32, out_features=1, bias=True)\n)"
     },
     "execution_count": 79,
     "metadata": {},
     "output_type": "execute_result"
    }
   ],
   "source": [
    "first_model"
   ],
   "metadata": {
    "collapsed": false,
    "ExecuteTime": {
     "end_time": "2024-03-12T07:28:59.366282Z",
     "start_time": "2024-03-12T07:28:59.319948Z"
    }
   },
   "id": "e1c0b6b00a7cebfb",
   "execution_count": 79
  },
  {
   "cell_type": "code",
   "outputs": [],
   "source": [
    "def create_results_df(model, loader, vocab):\n",
    "    model.eval()\n",
    "    results = []\n",
    "    unk_token = '<unk>'\n",
    "    \n",
    "    for batch in loader:\n",
    "        search_term, description, relevance = (item.to(device) for item in batch)        \n",
    "        with torch.no_grad():\n",
    "            y_pred = model(search_term, description).squeeze()\n",
    "        search_term_text = [''.join([vocab.lookup_token(st) for st in seq if vocab.lookup_token(st) != unk_token])\n",
    "                            for seq in search_term.cpu()]\n",
    "        description_text = [''.join([vocab.lookup_token(ds) for ds in seq if vocab.lookup_token(ds) != unk_token])\n",
    "                             for seq in description.cpu()]\n",
    "        y_pred = y_pred.cpu().numpy()\n",
    "        relevance = relevance.cpu().numpy()\n",
    "        results.extend(zip(search_term_text, description_text, y_pred, relevance))\n",
    "        break\n",
    "        \n",
    "    df = pd.DataFrame(results, columns=['search_term', 'description', 'predicted_relevance', 'true_relevance'])\n",
    "    \n",
    "    return df"
   ],
   "metadata": {
    "collapsed": false,
    "ExecuteTime": {
     "end_time": "2024-03-12T07:29:00.061349Z",
     "start_time": "2024-03-12T07:29:00.045478Z"
    }
   },
   "id": "4e4d832db819ff63",
   "execution_count": 80
  },
  {
   "cell_type": "code",
   "outputs": [],
   "source": [
    "results = create_results_df(first_model, val_dataloader, vocab)"
   ],
   "metadata": {
    "collapsed": false,
    "ExecuteTime": {
     "end_time": "2024-03-12T07:29:02.392689Z",
     "start_time": "2024-03-12T07:29:01.166189Z"
    }
   },
   "id": "c538367283c0df27",
   "execution_count": 81
  },
  {
   "cell_type": "code",
   "outputs": [
    {
     "data": {
      "text/plain": "                   search_term  \\\n0         adhesive slide strip   \n1     fraiming nailer electric   \n2  soild 6 panel interior door   \n3                  column post   \n4       Kitchen aid wall ovens   \n\n                                         description  predicted_relevance  \\\n0  Get organized Self-Adhesive Single Hook! small...             2.404911   \n1  NR83AA3 3-1/4 in. paper collated framing naile...             2.404919   \n2  Builder's Choice 6-Panel Clear Pine doors made...             2.404909   \n3  Add elegance sophistication porch deck. Porch ...             2.404924   \n4  30 in. Combination Wall Oven Even-Heat True Co...             2.436931   \n\n   true_relevance  \n0            3.00  \n1            2.33  \n2            2.33  \n3            3.00  \n4            3.00  ",
      "text/html": "<div>\n<style scoped>\n    .dataframe tbody tr th:only-of-type {\n        vertical-align: middle;\n    }\n\n    .dataframe tbody tr th {\n        vertical-align: top;\n    }\n\n    .dataframe thead th {\n        text-align: right;\n    }\n</style>\n<table border=\"1\" class=\"dataframe\">\n  <thead>\n    <tr style=\"text-align: right;\">\n      <th></th>\n      <th>search_term</th>\n      <th>description</th>\n      <th>predicted_relevance</th>\n      <th>true_relevance</th>\n    </tr>\n  </thead>\n  <tbody>\n    <tr>\n      <th>0</th>\n      <td>adhesive slide strip</td>\n      <td>Get organized Self-Adhesive Single Hook! small...</td>\n      <td>2.404911</td>\n      <td>3.00</td>\n    </tr>\n    <tr>\n      <th>1</th>\n      <td>fraiming nailer electric</td>\n      <td>NR83AA3 3-1/4 in. paper collated framing naile...</td>\n      <td>2.404919</td>\n      <td>2.33</td>\n    </tr>\n    <tr>\n      <th>2</th>\n      <td>soild 6 panel interior door</td>\n      <td>Builder's Choice 6-Panel Clear Pine doors made...</td>\n      <td>2.404909</td>\n      <td>2.33</td>\n    </tr>\n    <tr>\n      <th>3</th>\n      <td>column post</td>\n      <td>Add elegance sophistication porch deck. Porch ...</td>\n      <td>2.404924</td>\n      <td>3.00</td>\n    </tr>\n    <tr>\n      <th>4</th>\n      <td>Kitchen aid wall ovens</td>\n      <td>30 in. Combination Wall Oven Even-Heat True Co...</td>\n      <td>2.436931</td>\n      <td>3.00</td>\n    </tr>\n  </tbody>\n</table>\n</div>"
     },
     "execution_count": 82,
     "metadata": {},
     "output_type": "execute_result"
    }
   ],
   "source": [
    "results.head()"
   ],
   "metadata": {
    "collapsed": false,
    "ExecuteTime": {
     "end_time": "2024-03-12T07:29:03.372496Z",
     "start_time": "2024-03-12T07:29:03.314199Z"
    }
   },
   "id": "3c11fba641ac102a",
   "execution_count": 82
  },
  {
   "cell_type": "code",
   "outputs": [],
   "source": [
    "def calc_metrics_on_loader(model, loader):\n",
    "    model.eval()\n",
    "    y_true = []\n",
    "    y_pred = []\n",
    "    for batch in loader:\n",
    "        search_term, description, relevance = (item.to(device) for item in batch)\n",
    "        with torch.no_grad():\n",
    "            y_pred.extend(model(search_term, description).squeeze().cpu().numpy())\n",
    "            y_true.extend(relevance.cpu().numpy())\n",
    "    mae = mean_absolute_error(y_true, y_pred)\n",
    "    mse = mean_squared_error(y_true, y_pred)\n",
    "    rmse = np.sqrt(mse)\n",
    "    return {'MAE': mae, 'MSE': mse, 'RMSE': rmse}"
   ],
   "metadata": {
    "collapsed": false,
    "ExecuteTime": {
     "end_time": "2024-03-12T09:24:29.100144Z",
     "start_time": "2024-03-12T09:24:29.065724Z"
    }
   },
   "id": "dc7461b09f1aa317",
   "execution_count": 89
  },
  {
   "cell_type": "code",
   "outputs": [
    {
     "name": "stdout",
     "output_type": "stream",
     "text": [
      "Validation Metrics: {'MAE': 0.4421565, 'MSE': 0.29288644, 'RMSE': 0.54118985}\n",
      "Test Metrics: {'MAE': 0.44413006, 'MSE': 0.2980659, 'RMSE': 0.5459541}\n",
      "Train Metrics: {'MAE': 0.44131956, 'MSE': 0.2907081, 'RMSE': 0.53917354}\n"
     ]
    }
   ],
   "source": [
    "val_first_metrics = calc_metrics_on_loader(first_model, val_dataloader)\n",
    "print(f\"Validation Metrics: {val_first_metrics}\")\n",
    "test_first_metrics = calc_metrics_on_loader(first_model, test_dataloader)\n",
    "print(f\"Test Metrics: {test_first_metrics}\")\n",
    "train_first_metrics = calc_metrics_on_loader(first_model, train_dataloader)\n",
    "print(f\"Train Metrics: {train_first_metrics}\")"
   ],
   "metadata": {
    "collapsed": false,
    "ExecuteTime": {
     "end_time": "2024-03-12T09:32:51.067312Z",
     "start_time": "2024-03-12T09:25:06.526264Z"
    }
   },
   "id": "acaa214a32b7e214",
   "execution_count": 90
  },
  {
   "cell_type": "markdown",
   "source": [
    "# Building a naive baseline model using character-level embeddings"
   ],
   "metadata": {
    "collapsed": false
   },
   "id": "dc5a21455f9c67b6"
  },
  {
   "cell_type": "code",
   "outputs": [],
   "source": [
    "data = train_with_descriptions.copy()\n",
    "data['combined_text'] = data['search_term'] + ' ' + data['product_description']\n",
    "vectorizer = CountVectorizer(analyzer='char')\n",
    "X = vectorizer.fit_transform(data['combined_text'])\n",
    "y = data['relevance'].values\n",
    "\n",
    "X_train, X_test, y_train, y_test = train_test_split(X, y, test_size=0.2, random_state=SEED)\n",
    "\n",
    "\n",
    "test_data = test_with_descriptions.copy()\n",
    "test_data['combined_text'] = test_data['search_term'] + ' ' + test_data['product_description']\n",
    "X_test_data = vectorizer.transform(test_data['combined_text'])\n",
    "y_test_data = test_data['relevance'].values\n",
    "\n",
    "\n",
    "models = {\n",
    "    \"Linear Regression\": LinearRegression(),\n",
    "    \"Random Forest\": RandomForestRegressor(random_state=SEED),\n",
    "    \"Ridge Regression\": Ridge(random_state=SEED),\n",
    "    \"Lasso Regression\": Lasso(random_state=SEED)\n",
    "}\n",
    "\n",
    "results = {\"Model\": [], \"MAE_train\": [], \"RMSE_train\": [], \"MAE_val\": [], \"RMSE_val\": [], \"MAE_test\": [], \"RMSE_test\": []}\n",
    "\n",
    "for name, model in models.items():\n",
    "    model.fit(X_train, y_train)\n",
    "    \n",
    "    y_pred_val = model.predict(X_test)\n",
    "    mse = mean_squared_error(y_test, y_pred_val)\n",
    "    rmse = np.sqrt(mse)  \n",
    "    mae = mean_absolute_error(y_test, y_pred_val)\n",
    "    results[\"Model\"].append(name)\n",
    "    results[\"MAE_val\"].append(mae)\n",
    "    results[\"RMSE_val\"].append(rmse)\n",
    "    \n",
    "    y_pred_train = model.predict(X_train)\n",
    "    mse = mean_squared_error(y_train, y_pred_train)\n",
    "    rmse = np.sqrt(mse)\n",
    "    mae = mean_absolute_error(y_train, y_pred_train)\n",
    "    results[\"MAE_train\"].append(mae)\n",
    "    results[\"RMSE_train\"].append(rmse)\n",
    "    \n",
    "    y_pred_test = model.predict(X_test_data)\n",
    "    mse = mean_squared_error(y_test_data, y_pred_test)\n",
    "    rmse = np.sqrt(mse)\n",
    "    mae = mean_absolute_error(y_test_data, y_pred_test)\n",
    "    results[\"MAE_test\"].append(mae)\n",
    "    results[\"RMSE_test\"].append(rmse)\n",
    "    \n",
    "\n",
    "results_df = pd.DataFrame(results)"
   ],
   "metadata": {
    "collapsed": false,
    "ExecuteTime": {
     "end_time": "2024-03-12T10:06:14.092023Z",
     "start_time": "2024-03-12T09:54:22.382891Z"
    }
   },
   "id": "5d963458c25e5e14",
   "execution_count": 92
  },
  {
   "cell_type": "code",
   "outputs": [
    {
     "data": {
      "text/plain": "               Model  MAE_train  RMSE_train   MAE_val  RMSE_val  MAE_test  \\\n0  Linear Regression   0.435078    0.531917  0.435540  0.532581  0.436715   \n1      Random Forest   0.166681    0.208256  0.435559  0.535007  0.447854   \n2   Ridge Regression   0.435078    0.531917  0.435541  0.532582  0.436715   \n3   Lasso Regression   0.437560    0.533699  0.438144  0.534521  0.438521   \n\n   RMSE_test  \n0   0.534149  \n1   0.548507  \n2   0.534149  \n3   0.535156  ",
      "text/html": "<div>\n<style scoped>\n    .dataframe tbody tr th:only-of-type {\n        vertical-align: middle;\n    }\n\n    .dataframe tbody tr th {\n        vertical-align: top;\n    }\n\n    .dataframe thead th {\n        text-align: right;\n    }\n</style>\n<table border=\"1\" class=\"dataframe\">\n  <thead>\n    <tr style=\"text-align: right;\">\n      <th></th>\n      <th>Model</th>\n      <th>MAE_train</th>\n      <th>RMSE_train</th>\n      <th>MAE_val</th>\n      <th>RMSE_val</th>\n      <th>MAE_test</th>\n      <th>RMSE_test</th>\n    </tr>\n  </thead>\n  <tbody>\n    <tr>\n      <th>0</th>\n      <td>Linear Regression</td>\n      <td>0.435078</td>\n      <td>0.531917</td>\n      <td>0.435540</td>\n      <td>0.532581</td>\n      <td>0.436715</td>\n      <td>0.534149</td>\n    </tr>\n    <tr>\n      <th>1</th>\n      <td>Random Forest</td>\n      <td>0.166681</td>\n      <td>0.208256</td>\n      <td>0.435559</td>\n      <td>0.535007</td>\n      <td>0.447854</td>\n      <td>0.548507</td>\n    </tr>\n    <tr>\n      <th>2</th>\n      <td>Ridge Regression</td>\n      <td>0.435078</td>\n      <td>0.531917</td>\n      <td>0.435541</td>\n      <td>0.532582</td>\n      <td>0.436715</td>\n      <td>0.534149</td>\n    </tr>\n    <tr>\n      <th>3</th>\n      <td>Lasso Regression</td>\n      <td>0.437560</td>\n      <td>0.533699</td>\n      <td>0.438144</td>\n      <td>0.534521</td>\n      <td>0.438521</td>\n      <td>0.535156</td>\n    </tr>\n  </tbody>\n</table>\n</div>"
     },
     "execution_count": 93,
     "metadata": {},
     "output_type": "execute_result"
    }
   ],
   "source": [
    "results_df"
   ],
   "metadata": {
    "collapsed": false,
    "ExecuteTime": {
     "end_time": "2024-03-12T10:06:14.117310Z",
     "start_time": "2024-03-12T10:06:14.112485Z"
    }
   },
   "id": "89e7fac39b91f217",
   "execution_count": 93
  },
  {
   "cell_type": "code",
   "outputs": [],
   "source": [
    "train_data = train_with_descriptions.copy()\n",
    "test_data = test_with_descriptions.copy()\n",
    "\n",
    "train_data['search_term'] = train_data['search_term'].apply(nltk.word_tokenize)\n",
    "train_data['product_description'] = train_data['product_description'].apply(nltk.word_tokenize)\n",
    "test_data['search_term'] = test_data['search_term'].apply(nltk.word_tokenize)\n",
    "test_data['product_description'] = test_data['product_description'].apply(nltk.word_tokenize)\n"
   ],
   "metadata": {
    "collapsed": false,
    "ExecuteTime": {
     "end_time": "2024-03-12T10:09:04.154852Z",
     "start_time": "2024-03-12T10:07:51.284070Z"
    }
   },
   "id": "26f2f45ac68538f0",
   "execution_count": 94
  },
  {
   "cell_type": "code",
   "outputs": [
    {
     "data": {
      "text/plain": "   id  product_uid                                      product_title  \\\n0   2       100001                  Simpson Strong-Tie 12-Gauge Angle   \n1   3       100001                  Simpson Strong-Tie 12-Gauge Angle   \n2   9       100002  BEHR Premium Textured DeckOver 1-gal. #SC-141 ...   \n3  16       100005  Delta Vero 1-Handle Shower Only Faucet Trim Ki...   \n4  17       100005  Delta Vero 1-Handle Shower Only Faucet Trim Ki...   \n\n            search_term  relevance  \\\n0      [angle, bracket]       3.00   \n1          [l, bracket]       2.50   \n2                [deck]       3.00   \n3  [rain, shower, head]       2.33   \n4      [shower, faucet]       2.67   \n\n                                 product_description  \n0  [angles, make, joints, stronger, ,, also, prov...  \n1  [angles, make, joints, stronger, ,, also, prov...  \n2  [BEHR, Premium, Textured, DECKOVER, innovative...  \n3  [Update, bathroom, Delta, Vero, Single-Handle,...  \n4  [Update, bathroom, Delta, Vero, Single-Handle,...  ",
      "text/html": "<div>\n<style scoped>\n    .dataframe tbody tr th:only-of-type {\n        vertical-align: middle;\n    }\n\n    .dataframe tbody tr th {\n        vertical-align: top;\n    }\n\n    .dataframe thead th {\n        text-align: right;\n    }\n</style>\n<table border=\"1\" class=\"dataframe\">\n  <thead>\n    <tr style=\"text-align: right;\">\n      <th></th>\n      <th>id</th>\n      <th>product_uid</th>\n      <th>product_title</th>\n      <th>search_term</th>\n      <th>relevance</th>\n      <th>product_description</th>\n    </tr>\n  </thead>\n  <tbody>\n    <tr>\n      <th>0</th>\n      <td>2</td>\n      <td>100001</td>\n      <td>Simpson Strong-Tie 12-Gauge Angle</td>\n      <td>[angle, bracket]</td>\n      <td>3.00</td>\n      <td>[angles, make, joints, stronger, ,, also, prov...</td>\n    </tr>\n    <tr>\n      <th>1</th>\n      <td>3</td>\n      <td>100001</td>\n      <td>Simpson Strong-Tie 12-Gauge Angle</td>\n      <td>[l, bracket]</td>\n      <td>2.50</td>\n      <td>[angles, make, joints, stronger, ,, also, prov...</td>\n    </tr>\n    <tr>\n      <th>2</th>\n      <td>9</td>\n      <td>100002</td>\n      <td>BEHR Premium Textured DeckOver 1-gal. #SC-141 ...</td>\n      <td>[deck]</td>\n      <td>3.00</td>\n      <td>[BEHR, Premium, Textured, DECKOVER, innovative...</td>\n    </tr>\n    <tr>\n      <th>3</th>\n      <td>16</td>\n      <td>100005</td>\n      <td>Delta Vero 1-Handle Shower Only Faucet Trim Ki...</td>\n      <td>[rain, shower, head]</td>\n      <td>2.33</td>\n      <td>[Update, bathroom, Delta, Vero, Single-Handle,...</td>\n    </tr>\n    <tr>\n      <th>4</th>\n      <td>17</td>\n      <td>100005</td>\n      <td>Delta Vero 1-Handle Shower Only Faucet Trim Ki...</td>\n      <td>[shower, faucet]</td>\n      <td>2.67</td>\n      <td>[Update, bathroom, Delta, Vero, Single-Handle,...</td>\n    </tr>\n  </tbody>\n</table>\n</div>"
     },
     "execution_count": 95,
     "metadata": {},
     "output_type": "execute_result"
    }
   ],
   "source": [
    "train_data.head()"
   ],
   "metadata": {
    "collapsed": false,
    "ExecuteTime": {
     "end_time": "2024-03-12T10:09:04.196740Z",
     "start_time": "2024-03-12T10:09:04.162534Z"
    }
   },
   "id": "94b362c0392f48e3",
   "execution_count": 95
  },
  {
   "cell_type": "markdown",
   "source": [
    "# Building a Word-Level Siamese Network"
   ],
   "metadata": {
    "collapsed": false
   },
   "id": "255d7e818d1f2dca"
  },
  {
   "cell_type": "code",
   "outputs": [],
   "source": [
    "all_texts = pd.concat([train_data['search_term'], train_data['product_description']])\n",
    "vocab = build_vocab_from_iterator(all_texts, specials=['<unk>'])    \n",
    "vocab.set_default_index(vocab['<unk>']) "
   ],
   "metadata": {
    "collapsed": false,
    "ExecuteTime": {
     "end_time": "2024-03-12T10:09:06.361686Z",
     "start_time": "2024-03-12T10:09:04.168146Z"
    }
   },
   "id": "f5893225468c6a06",
   "execution_count": 96
  },
  {
   "cell_type": "code",
   "outputs": [],
   "source": [
    "w2v = Word2Vec(sentences=all_texts, vector_size=300, window=5, min_count=1, workers=4)"
   ],
   "metadata": {
    "collapsed": false,
    "ExecuteTime": {
     "end_time": "2024-03-12T10:09:35.310342Z",
     "start_time": "2024-03-12T10:09:06.374825Z"
    }
   },
   "id": "56d927b445e98967",
   "execution_count": 97
  },
  {
   "cell_type": "code",
   "outputs": [
    {
     "data": {
      "text/plain": "(74037035, 82690900)"
     },
     "execution_count": 98,
     "metadata": {},
     "output_type": "execute_result"
    }
   ],
   "source": [
    "w2v.train(all_texts, total_examples=w2v.corpus_count, epochs=10)"
   ],
   "metadata": {
    "collapsed": false,
    "ExecuteTime": {
     "end_time": "2024-03-12T10:10:30.350542Z",
     "start_time": "2024-03-12T10:09:35.309079Z"
    }
   },
   "id": "c9a56761863de192",
   "execution_count": 98
  },
  {
   "cell_type": "code",
   "outputs": [
    {
     "data": {
      "text/plain": "array([ 0.08294488, -0.92514753, -0.23872155,  0.4760331 , -0.5960319 ,\n        1.1667905 ,  0.5512598 , -0.01363624,  0.9837    ,  0.11547148,\n        0.01882452,  0.09160011, -0.5534414 ,  0.73873615,  0.5256696 ,\n       -0.6796916 ,  0.16067411, -0.6061573 , -0.5280299 ,  0.5645555 ,\n        0.11556417,  0.55822027, -0.17886089, -0.18772732,  0.16393551,\n       -0.44822982, -0.13021976, -0.20007488,  0.7580937 , -0.12643698,\n       -0.603324  , -0.01677587, -0.4790335 , -0.57774293,  1.4061034 ,\n        0.02566773,  0.82700723, -0.612441  , -0.37240058, -0.8590856 ,\n       -1.5671015 , -0.47851297,  0.46320194,  0.19010516, -0.60953945,\n       -0.7995232 , -0.49746555,  0.7921353 ,  0.2025561 ,  0.07288355,\n       -0.85612386, -0.23564957, -0.24933268, -0.47748503,  0.7380532 ,\n        0.3984918 , -0.13980947, -0.82321376,  1.737431  , -0.63837624,\n        0.82085955, -0.04609111, -0.22527966,  1.2436421 , -0.16676855,\n        1.3127522 , -0.29770744, -0.8812623 , -0.8548179 ,  1.7151597 ,\n       -0.5659004 ,  1.156468  , -0.64257395,  0.9589693 , -0.9760097 ,\n        0.91675466,  0.21405183,  0.09670421, -1.4575707 , -0.84210336,\n        0.65824956, -0.69323987, -0.11248628,  0.7603349 ,  0.27286255,\n       -0.34016266, -0.07117365,  0.06891122,  0.30283716,  0.2659452 ,\n        0.00663444, -0.6019064 ,  0.74165773, -0.04273609,  0.08399747,\n       -0.05525041,  0.46485227, -0.01862381, -0.58475083, -0.573479  ,\n        0.2833797 ,  0.6650104 , -0.32288092, -0.9542885 ,  1.1361178 ,\n       -0.05375415,  0.56228644, -0.1735989 , -1.0989184 , -1.0246934 ,\n       -1.4515052 , -0.25447118, -0.5639826 ,  0.15482412, -0.54780084,\n       -0.69711196, -1.5160828 ,  0.07956596, -0.06353683,  0.12362006,\n       -0.2692825 ,  0.1357102 , -0.04254639, -1.1931593 , -0.06461974,\n        0.02394756, -0.5523273 ,  0.34594566, -0.44495344,  0.3889763 ,\n        0.9432687 , -0.5627826 ,  0.24002223,  1.0167197 , -0.7454289 ,\n        0.52226114,  0.51559573,  0.91710734,  0.27719614,  1.1033957 ,\n        1.5143988 , -0.311401  , -0.0235138 , -0.15660822,  0.48300228,\n       -0.08344648, -0.6104942 ,  0.6777121 , -0.5980517 , -0.04252532,\n       -0.60867697, -0.43582153, -1.0076762 , -0.15589109,  0.16888075,\n        0.6676332 ,  0.32818177, -0.10554264,  0.92250156, -1.1042683 ,\n        0.10679471,  1.4122305 , -0.5117686 , -0.13654199,  1.1652226 ,\n       -0.28356802,  0.41598743,  0.50635904,  1.0975237 , -0.7812796 ,\n        0.13272373, -0.10466184,  0.01206775,  0.77033657,  0.11519211,\n       -0.18711181, -0.04192495, -0.1286594 , -0.17033361, -0.7449143 ,\n       -0.673678  ,  0.8353285 ,  0.37387487, -0.5192808 , -0.3754729 ,\n       -0.5682066 , -0.60092723,  0.3945205 ,  0.34379044,  0.03962222,\n       -0.2677442 , -0.07716396, -0.2410966 , -0.8513818 , -1.0225506 ,\n       -0.5672234 , -0.1612913 , -0.79815936,  0.5941349 ,  0.7488611 ,\n        0.14671654,  0.8123955 , -0.1819624 ,  1.0608261 ,  0.52858204,\n       -0.20804308, -0.01162865, -0.91764617,  0.0177165 ,  0.4701378 ,\n        0.5947671 , -0.57823294, -0.17306924,  0.5152732 , -0.49356866,\n       -0.04779096, -0.2737118 , -0.28472224, -1.1318885 ,  1.4060514 ,\n        0.28993014,  1.0594956 , -0.82803464, -0.38504735, -0.1527808 ,\n        0.1652918 ,  0.73392296,  0.75400513, -1.01911   ,  0.576832  ,\n        0.3531669 , -0.4736155 , -1.4408523 ,  0.32501692,  0.79538786,\n        0.36628556,  1.1446898 , -0.350787  ,  0.4568427 , -0.71282536,\n        0.8160602 , -0.38461095, -0.2049216 ,  0.16988592, -0.5361978 ,\n        0.17781788,  0.6626886 , -0.08305193, -0.06788171, -0.94359374,\n       -0.6444724 ,  0.8384664 , -0.41569355, -0.2680831 ,  0.61408234,\n        0.62039715, -0.06109009, -0.69780284,  0.46748835,  0.64467716,\n        1.5363333 , -0.05260458, -0.21093947, -0.27916017, -0.78312844,\n       -0.25281346,  0.8522729 ,  0.6287295 , -0.7966339 ,  0.48919392,\n        0.50686145,  0.04003768, -0.7479608 ,  0.27930397,  0.50452495,\n        0.6854471 , -0.04588441, -0.06484382,  0.03226396, -1.4078207 ,\n        0.25126454,  0.23762782, -0.02794308, -0.32445812,  0.1694479 ,\n        0.03098401,  0.2633455 ,  0.42368343, -0.52695316, -0.3256409 ,\n        0.2052881 , -0.5544012 ,  0.67342734, -0.37399167,  0.79594576,\n        0.5486068 , -1.3180788 , -0.58504033, -0.7946529 , -0.8242357 ],\n      dtype=float32)"
     },
     "execution_count": 99,
     "metadata": {},
     "output_type": "execute_result"
    }
   ],
   "source": [
    "w2v.wv['the']"
   ],
   "metadata": {
    "collapsed": false,
    "ExecuteTime": {
     "end_time": "2024-03-12T10:10:30.386263Z",
     "start_time": "2024-03-12T10:10:30.353506Z"
    }
   },
   "id": "a421a5e565f7b01a",
   "execution_count": 99
  },
  {
   "cell_type": "code",
   "outputs": [
    {
     "data": {
      "text/plain": "[('angles', 0.4536053538322449),\n ('detents', 0.42463356256484985),\n ('drillHome', 0.41877609491348267),\n ('degree', 0.40135326981544495),\n ('wallHandheld', 0.3885921835899353),\n ('diesLimited', 0.38656216859817505),\n ('jobComfort', 0.3859924376010895),\n ('leftPlumb', 0.3841972053050995),\n ('offset', 0.3821152448654175),\n ('left', 0.38055774569511414)]"
     },
     "execution_count": 106,
     "metadata": {},
     "output_type": "execute_result"
    }
   ],
   "source": [
    "w2v.wv.most_similar('angle')"
   ],
   "metadata": {
    "collapsed": false,
    "ExecuteTime": {
     "end_time": "2024-03-12T10:11:38.329012Z",
     "start_time": "2024-03-12T10:11:38.159741Z"
    }
   },
   "id": "978c59d427b5ebec",
   "execution_count": 106
  },
  {
   "cell_type": "code",
   "outputs": [],
   "source": [
    "def embed_sequence(sequence, w2v):\n",
    "    return [w2v.wv[word] for word in sequence if word in w2v.wv.key_to_index]\n",
    "\n",
    "train_data['search_term_embedded'] = train_data['search_term'].apply(lambda x: embed_sequence(x, w2v))\n",
    "train_data['product_description_embedded'] = train_data['product_description'].apply(lambda x: embed_sequence(x, w2v))\n",
    "test_data['search_term_embedded'] = test_data['search_term'].apply(lambda x: embed_sequence(x, w2v))\n",
    "test_data['product_description_embedded'] = test_data['product_description'].apply(lambda x: embed_sequence(x, w2v))"
   ],
   "metadata": {
    "collapsed": false,
    "ExecuteTime": {
     "end_time": "2024-03-12T10:12:14.852342Z",
     "start_time": "2024-03-12T10:12:04.765491Z"
    }
   },
   "id": "e73412c710c7003f",
   "execution_count": 107
  },
  {
   "cell_type": "code",
   "outputs": [
    {
     "data": {
      "text/plain": "                                search_term_embedded  \\\n0  [[1.5084994, -0.5510181, 0.02883155, 1.1298926...   \n1  [[0.5459661, 0.42498568, 0.2360346, 0.47907296...   \n2  [[-0.23774794, -1.8844466, -3.196015, 0.030547...   \n3  [[-1.3160219, -4.698496, 0.26284897, 0.7581072...   \n4  [[1.6052382, -1.708878, -4.263003, 0.2810915, ...   \n\n                        product_description_embedded  \n0  [[0.8002216, -1.2167457, 2.05972, -0.2625372, ...  \n1  [[0.8002216, -1.2167457, 2.05972, -0.2625372, ...  \n2  [[0.14396618, 1.6337265, -1.8585943, -0.977123...  \n3  [[1.3695577, -0.7826093, 0.5031104, 0.4819416,...  \n4  [[1.3695577, -0.7826093, 0.5031104, 0.4819416,...  ",
      "text/html": "<div>\n<style scoped>\n    .dataframe tbody tr th:only-of-type {\n        vertical-align: middle;\n    }\n\n    .dataframe tbody tr th {\n        vertical-align: top;\n    }\n\n    .dataframe thead th {\n        text-align: right;\n    }\n</style>\n<table border=\"1\" class=\"dataframe\">\n  <thead>\n    <tr style=\"text-align: right;\">\n      <th></th>\n      <th>search_term_embedded</th>\n      <th>product_description_embedded</th>\n    </tr>\n  </thead>\n  <tbody>\n    <tr>\n      <th>0</th>\n      <td>[[1.5084994, -0.5510181, 0.02883155, 1.1298926...</td>\n      <td>[[0.8002216, -1.2167457, 2.05972, -0.2625372, ...</td>\n    </tr>\n    <tr>\n      <th>1</th>\n      <td>[[0.5459661, 0.42498568, 0.2360346, 0.47907296...</td>\n      <td>[[0.8002216, -1.2167457, 2.05972, -0.2625372, ...</td>\n    </tr>\n    <tr>\n      <th>2</th>\n      <td>[[-0.23774794, -1.8844466, -3.196015, 0.030547...</td>\n      <td>[[0.14396618, 1.6337265, -1.8585943, -0.977123...</td>\n    </tr>\n    <tr>\n      <th>3</th>\n      <td>[[-1.3160219, -4.698496, 0.26284897, 0.7581072...</td>\n      <td>[[1.3695577, -0.7826093, 0.5031104, 0.4819416,...</td>\n    </tr>\n    <tr>\n      <th>4</th>\n      <td>[[1.6052382, -1.708878, -4.263003, 0.2810915, ...</td>\n      <td>[[1.3695577, -0.7826093, 0.5031104, 0.4819416,...</td>\n    </tr>\n  </tbody>\n</table>\n</div>"
     },
     "execution_count": 108,
     "metadata": {},
     "output_type": "execute_result"
    }
   ],
   "source": [
    "train_data[['search_term_embedded', 'product_description_embedded']].head()"
   ],
   "metadata": {
    "collapsed": false,
    "ExecuteTime": {
     "end_time": "2024-03-12T10:12:14.977290Z",
     "start_time": "2024-03-12T10:12:14.852744Z"
    }
   },
   "id": "30cd1f9e8d1364ea",
   "execution_count": 108
  },
  {
   "cell_type": "code",
   "outputs": [],
   "source": [
    "train_data, val_data = train_test_split(train_data, test_size=0.2, random_state=SEED)"
   ],
   "metadata": {
    "collapsed": false,
    "ExecuteTime": {
     "end_time": "2024-03-12T10:12:24.952479Z",
     "start_time": "2024-03-12T10:12:24.755194Z"
    }
   },
   "id": "b9d237f89b301ac1",
   "execution_count": 109
  },
  {
   "cell_type": "code",
   "outputs": [
    {
     "name": "stdout",
     "output_type": "stream",
     "text": [
      "Train dataset shape: (59253, 8)\n",
      "Validation dataset shape: (14814, 8)\n"
     ]
    }
   ],
   "source": [
    "print(f\"Train dataset shape: {train_data.shape}\")\n",
    "print(f\"Validation dataset shape: {val_data.shape}\")"
   ],
   "metadata": {
    "collapsed": false,
    "ExecuteTime": {
     "end_time": "2024-03-12T10:12:28.081353Z",
     "start_time": "2024-03-12T10:12:28.067522Z"
    }
   },
   "id": "f427d37fd71b105e",
   "execution_count": 110
  },
  {
   "cell_type": "code",
   "outputs": [],
   "source": [
    "class WordRelevanceDataset(Dataset):\n",
    "    def __init__(self, df):\n",
    "        self.df = df\n",
    "        self.search_terms = list(df['search_term_embedded'])\n",
    "        self.descriptions = list(df['product_description_embedded'])\n",
    "        self.relevances = df['relevance'].values\n",
    "    def __len__(self):\n",
    "        return len(self.search_terms)\n",
    "\n",
    "    def __getitem__(self, idx):\n",
    "        search_term = torch.tensor(self.search_terms[idx], dtype=torch.float32)\n",
    "        description = torch.tensor(self.descriptions[idx], dtype=torch.float32)\n",
    "        relevance = torch.tensor(self.relevances[idx], dtype=torch.float32)\n",
    "        return search_term, description, relevance, self.df['search_term'].iloc[idx], self.df['product_description'].iloc[idx]"
   ],
   "metadata": {
    "collapsed": false,
    "ExecuteTime": {
     "end_time": "2024-03-12T10:12:53.831578Z",
     "start_time": "2024-03-12T10:12:53.783208Z"
    }
   },
   "id": "3e067dbb439a50ea",
   "execution_count": 111
  },
  {
   "cell_type": "code",
   "outputs": [],
   "source": [
    "train_words_dataset = WordRelevanceDataset(train_data)\n",
    "val_words_dataset = WordRelevanceDataset(val_data)\n",
    "test_words_dataset = WordRelevanceDataset(test_data)"
   ],
   "metadata": {
    "collapsed": false,
    "ExecuteTime": {
     "end_time": "2024-03-12T10:12:55.880809Z",
     "start_time": "2024-03-12T10:12:55.864853Z"
    }
   },
   "id": "f0bc9388b77de014",
   "execution_count": 112
  },
  {
   "cell_type": "code",
   "outputs": [],
   "source": [
    "def collate_fn(batch):\n",
    "    search_terms, descriptions, relevances, text1, text2 = zip(*batch)\n",
    "    \n",
    "    search_terms_padded = pad_sequence([torch.tensor(seq, dtype=torch.float32) if len(seq) > 0 else torch.zeros(1, 300) for seq in search_terms], batch_first=True, padding_value=0.0)\n",
    "    descriptions_padded = pad_sequence([torch.tensor(seq, dtype=torch.float32) if len(seq) > 0 else torch.zeros(1, 300) for seq in descriptions], batch_first=True, padding_value=0.0)\n",
    "    \n",
    "    relevances = torch.tensor(relevances, dtype=torch.float32)\n",
    "    \n",
    "    return search_terms_padded, descriptions_padded, relevances, text1, text2"
   ],
   "metadata": {
    "collapsed": false,
    "ExecuteTime": {
     "end_time": "2024-03-12T10:26:13.869191Z",
     "start_time": "2024-03-12T10:26:13.861285Z"
    }
   },
   "id": "618df5d94ae702ce",
   "execution_count": 119
  },
  {
   "cell_type": "code",
   "outputs": [],
   "source": [
    "train_words_dataloader = DataLoader(train_words_dataset, batch_size=32, shuffle=True, collate_fn=collate_fn)\n",
    "val_words_dataloader = DataLoader(val_words_dataset, batch_size=32, shuffle=False, collate_fn=collate_fn)\n",
    "test_words_dataloader = DataLoader(test_words_dataset, batch_size=32, shuffle=False, collate_fn=collate_fn)"
   ],
   "metadata": {
    "collapsed": false,
    "ExecuteTime": {
     "end_time": "2024-03-12T10:26:13.882574Z",
     "start_time": "2024-03-12T10:26:13.871746Z"
    }
   },
   "id": "c242764b35aaad59",
   "execution_count": 120
  },
  {
   "cell_type": "code",
   "outputs": [],
   "source": [
    "class Siamese_Words_Model(L.LightningModule):\n",
    "    def __init__(self, embedding_dim=300, hidden_dim=64):\n",
    "        super().__init__()\n",
    "        self.lstm1 = nn.LSTM(embedding_dim, hidden_dim, batch_first=True, num_layers=3)\n",
    "        self.dropout1 = nn.Dropout(0.3)\n",
    "        self.bn11 = nn.BatchNorm1d(hidden_dim)\n",
    "        self.bn21 = nn.BatchNorm1d(128)\n",
    "        self.fc11 = nn.Linear(hidden_dim, 128)\n",
    "        self.fc21 = nn.Linear(128, 32)\n",
    "        \n",
    "        self.lstm2 = nn.LSTM(embedding_dim, hidden_dim, batch_first=True, num_layers=3)\n",
    "        self.dropout2 = nn.Dropout(0.3)\n",
    "        self.bn12 = nn.BatchNorm1d(hidden_dim)\n",
    "        self.bn22 = nn.BatchNorm1d(128)\n",
    "        self.fc12 = nn.Linear(hidden_dim, 128)\n",
    "        self.fc22 = nn.Linear(128, 32)\n",
    "        \n",
    "        self.out = nn.Linear(32, 1)\n",
    "        \n",
    "    def first_forward(self, x):\n",
    "        _, (h_n, _) = self.lstm1(x)\n",
    "        h_n_last = h_n[-1,:,:]\n",
    "        x = self.bn11(h_n_last)\n",
    "        x = self.fc11(x)\n",
    "        x = self.bn21(x)\n",
    "        x = self.dropout1(x)\n",
    "        x = self.fc21(x)\n",
    "        return x\n",
    "    \n",
    "    def second_forward(self, x):\n",
    "        _, (h_n, _) = self.lstm2(x)\n",
    "        h_n_last = h_n[-1,:,:]\n",
    "        x = self.bn12(h_n_last)\n",
    "        x = self.fc12(x)\n",
    "        x = self.bn22(x)\n",
    "        x = self.dropout2(x)\n",
    "        x = self.fc22(x)\n",
    "        return x\n",
    "\n",
    "    def forward(self, x1, x2):\n",
    "        x1 = self.first_forward(x1)\n",
    "        x2 = self.second_forward(x2)\n",
    "        difference = torch.abs(x1 - x2)\n",
    "        output = self.out(difference)\n",
    "        return output\n",
    "    \n",
    "    def training_step(self, batch, batch_idx):\n",
    "        x1, x2, y, text1, text2 = batch\n",
    "        y_pred = self(x1, x2).squeeze()\n",
    "        mse_loss = nn.MSELoss()(y.float(), y_pred)\n",
    "        rmse = torch.sqrt(mse_loss)\n",
    "        loss = nn.L1Loss()(y.float(), y_pred)\n",
    "        \n",
    "        self.log('train_loss', loss, on_step=True, on_epoch=True, prog_bar=True, logger=True)\n",
    "        self.log('train_rmse', rmse, on_step=True, on_epoch=True, prog_bar=True, logger=True)\n",
    "        return loss\n",
    "    \n",
    "    def validation_step(self, batch, batch_idx):\n",
    "        x1, x2, y, text1, text2 = batch\n",
    "        y_pred = self(x1, x2).squeeze()\n",
    "        mse_loss = nn.MSELoss()(y.float(), y_pred)\n",
    "        rmse = torch.sqrt(mse_loss)\n",
    "        loss = nn.L1Loss()(y.float(), y_pred)\n",
    "        self.log('val_loss', loss, on_step=True, on_epoch=True, prog_bar=True, logger=True)\n",
    "        self.log('val_rmse', rmse, on_step=True, on_epoch=True, prog_bar=True, logger=True)\n",
    "        return loss\n",
    "    \n",
    "    def configure_optimizers(self):\n",
    "        return optim.Adam(self.parameters(), lr=1e-3)\n",
    "        \n",
    "                \n",
    "        "
   ],
   "metadata": {
    "collapsed": false,
    "ExecuteTime": {
     "end_time": "2024-03-12T10:32:41.369314Z",
     "start_time": "2024-03-12T10:32:41.340353Z"
    }
   },
   "id": "a8af4f813c450da3",
   "execution_count": 125
  },
  {
   "cell_type": "code",
   "outputs": [
    {
     "name": "stderr",
     "output_type": "stream",
     "text": [
      "GPU available: True (mps), used: True\n",
      "TPU available: False, using: 0 TPU cores\n",
      "IPU available: False, using: 0 IPUs\n",
      "HPU available: False, using: 0 HPUs\n",
      "\n",
      "   | Name     | Type        | Params\n",
      "------------------------------------------\n",
      "0  | lstm1    | LSTM        | 160 K \n",
      "1  | dropout1 | Dropout     | 0     \n",
      "2  | bn11     | BatchNorm1d | 128   \n",
      "3  | bn21     | BatchNorm1d | 256   \n",
      "4  | fc11     | Linear      | 8.3 K \n",
      "5  | fc21     | Linear      | 4.1 K \n",
      "6  | lstm2    | LSTM        | 160 K \n",
      "7  | dropout2 | Dropout     | 0     \n",
      "8  | bn12     | BatchNorm1d | 128   \n",
      "9  | bn22     | BatchNorm1d | 256   \n",
      "10 | fc12     | Linear      | 8.3 K \n",
      "11 | fc22     | Linear      | 4.1 K \n",
      "12 | out      | Linear      | 33    \n",
      "------------------------------------------\n",
      "346 K     Trainable params\n",
      "0         Non-trainable params\n",
      "346 K     Total params\n",
      "1.385     Total estimated model params size (MB)\n"
     ]
    },
    {
     "data": {
      "text/plain": "Sanity Checking: 0it [00:00, ?it/s]",
      "application/vnd.jupyter.widget-view+json": {
       "version_major": 2,
       "version_minor": 0,
       "model_id": "6b6cc9afc84e44f9b528f25611d5531d"
      }
     },
     "metadata": {},
     "output_type": "display_data"
    },
    {
     "name": "stderr",
     "output_type": "stream",
     "text": [
      "/Users/ofekglik/miniconda3/lib/python3.11/site-packages/lightning/pytorch/trainer/connectors/data_connector.py:442: PossibleUserWarning: The dataloader, val_dataloader, does not have many workers which may be a bottleneck. Consider increasing the value of the `num_workers` argument` (try 10 which is the number of cpus on this machine) in the `DataLoader` init to improve performance.\n",
      "  rank_zero_warn(\n",
      "/var/folders/yv/5v33gcn53hzf9937q1lnv1040000gn/T/ipykernel_94067/502060605.py:6: UserWarning: To copy construct from a tensor, it is recommended to use sourceTensor.clone().detach() or sourceTensor.clone().detach().requires_grad_(True), rather than torch.tensor(sourceTensor).\n",
      "  search_terms_padded = pad_sequence([torch.tensor(seq, dtype=torch.float32) if len(seq) > 0 else torch.zeros(1, 300) for seq in search_terms], batch_first=True, padding_value=0.0)\n",
      "/var/folders/yv/5v33gcn53hzf9937q1lnv1040000gn/T/ipykernel_94067/502060605.py:7: UserWarning: To copy construct from a tensor, it is recommended to use sourceTensor.clone().detach() or sourceTensor.clone().detach().requires_grad_(True), rather than torch.tensor(sourceTensor).\n",
      "  descriptions_padded = pad_sequence([torch.tensor(seq, dtype=torch.float32) if len(seq) > 0 else torch.zeros(1, 300) for seq in descriptions], batch_first=True, padding_value=0.0)\n",
      "/Users/ofekglik/miniconda3/lib/python3.11/site-packages/lightning/pytorch/trainer/connectors/data_connector.py:442: PossibleUserWarning: The dataloader, train_dataloader, does not have many workers which may be a bottleneck. Consider increasing the value of the `num_workers` argument` (try 10 which is the number of cpus on this machine) in the `DataLoader` init to improve performance.\n",
      "  rank_zero_warn(\n"
     ]
    },
    {
     "data": {
      "text/plain": "Training: 0it [00:00, ?it/s]",
      "application/vnd.jupyter.widget-view+json": {
       "version_major": 2,
       "version_minor": 0,
       "model_id": "c79b5623ae404d9b8089b0e065b2841b"
      }
     },
     "metadata": {},
     "output_type": "display_data"
    },
    {
     "data": {
      "text/plain": "Validation: 0it [00:00, ?it/s]",
      "application/vnd.jupyter.widget-view+json": {
       "version_major": 2,
       "version_minor": 0,
       "model_id": "1721fcd03bfb45958a2cbab8b646fcc7"
      }
     },
     "metadata": {},
     "output_type": "display_data"
    },
    {
     "name": "stderr",
     "output_type": "stream",
     "text": [
      "Metric val_loss improved. New best score: 0.452\n"
     ]
    },
    {
     "data": {
      "text/plain": "Validation: 0it [00:00, ?it/s]",
      "application/vnd.jupyter.widget-view+json": {
       "version_major": 2,
       "version_minor": 0,
       "model_id": "34e0ef72b7304c41b87222062eddd2d1"
      }
     },
     "metadata": {},
     "output_type": "display_data"
    },
    {
     "name": "stderr",
     "output_type": "stream",
     "text": [
      "Metric val_loss improved by 0.008 >= min_delta = 0.0. New best score: 0.443\n"
     ]
    },
    {
     "data": {
      "text/plain": "Validation: 0it [00:00, ?it/s]",
      "application/vnd.jupyter.widget-view+json": {
       "version_major": 2,
       "version_minor": 0,
       "model_id": "4840278dd9b04c5fbf981b61c2f01b91"
      }
     },
     "metadata": {},
     "output_type": "display_data"
    },
    {
     "data": {
      "text/plain": "Validation: 0it [00:00, ?it/s]",
      "application/vnd.jupyter.widget-view+json": {
       "version_major": 2,
       "version_minor": 0,
       "model_id": "5878d96749e740589b26aa4f40dccc43"
      }
     },
     "metadata": {},
     "output_type": "display_data"
    },
    {
     "name": "stderr",
     "output_type": "stream",
     "text": [
      "Metric val_loss improved by 0.001 >= min_delta = 0.0. New best score: 0.443\n"
     ]
    },
    {
     "data": {
      "text/plain": "Validation: 0it [00:00, ?it/s]",
      "application/vnd.jupyter.widget-view+json": {
       "version_major": 2,
       "version_minor": 0,
       "model_id": "5d522551f1624648af7ae186669bf3e4"
      }
     },
     "metadata": {},
     "output_type": "display_data"
    },
    {
     "name": "stderr",
     "output_type": "stream",
     "text": [
      "Metric val_loss improved by 0.006 >= min_delta = 0.0. New best score: 0.437\n"
     ]
    },
    {
     "data": {
      "text/plain": "Validation: 0it [00:00, ?it/s]",
      "application/vnd.jupyter.widget-view+json": {
       "version_major": 2,
       "version_minor": 0,
       "model_id": "9acf9b23e4b64411bda2ba682f0543ae"
      }
     },
     "metadata": {},
     "output_type": "display_data"
    },
    {
     "name": "stderr",
     "output_type": "stream",
     "text": [
      "Metric val_loss improved by 0.007 >= min_delta = 0.0. New best score: 0.431\n"
     ]
    },
    {
     "data": {
      "text/plain": "Validation: 0it [00:00, ?it/s]",
      "application/vnd.jupyter.widget-view+json": {
       "version_major": 2,
       "version_minor": 0,
       "model_id": "dd4dd1f3b36d4f9f9eec84159f003456"
      }
     },
     "metadata": {},
     "output_type": "display_data"
    },
    {
     "data": {
      "text/plain": "Validation: 0it [00:00, ?it/s]",
      "application/vnd.jupyter.widget-view+json": {
       "version_major": 2,
       "version_minor": 0,
       "model_id": "cc0b3fc6bb89414f88d7ce308737d662"
      }
     },
     "metadata": {},
     "output_type": "display_data"
    },
    {
     "data": {
      "text/plain": "Validation: 0it [00:00, ?it/s]",
      "application/vnd.jupyter.widget-view+json": {
       "version_major": 2,
       "version_minor": 0,
       "model_id": "66b7302c06f4468f956bb7dce7ba9055"
      }
     },
     "metadata": {},
     "output_type": "display_data"
    },
    {
     "data": {
      "text/plain": "Validation: 0it [00:00, ?it/s]",
      "application/vnd.jupyter.widget-view+json": {
       "version_major": 2,
       "version_minor": 0,
       "model_id": "5fa76804aa254b2a85fba8691b711092"
      }
     },
     "metadata": {},
     "output_type": "display_data"
    },
    {
     "data": {
      "text/plain": "Validation: 0it [00:00, ?it/s]",
      "application/vnd.jupyter.widget-view+json": {
       "version_major": 2,
       "version_minor": 0,
       "model_id": "3f545d7b09434a8f95dfc8d27f49df2e"
      }
     },
     "metadata": {},
     "output_type": "display_data"
    },
    {
     "name": "stderr",
     "output_type": "stream",
     "text": [
      "Metric val_loss improved by 0.002 >= min_delta = 0.0. New best score: 0.429\n"
     ]
    },
    {
     "data": {
      "text/plain": "Validation: 0it [00:00, ?it/s]",
      "application/vnd.jupyter.widget-view+json": {
       "version_major": 2,
       "version_minor": 0,
       "model_id": "1870e99c0c244409ae240885e25269ce"
      }
     },
     "metadata": {},
     "output_type": "display_data"
    },
    {
     "name": "stderr",
     "output_type": "stream",
     "text": [
      "Metric val_loss improved by 0.001 >= min_delta = 0.0. New best score: 0.427\n"
     ]
    },
    {
     "data": {
      "text/plain": "Validation: 0it [00:00, ?it/s]",
      "application/vnd.jupyter.widget-view+json": {
       "version_major": 2,
       "version_minor": 0,
       "model_id": "efd0a755d90342788374bc7a7f14f918"
      }
     },
     "metadata": {},
     "output_type": "display_data"
    },
    {
     "data": {
      "text/plain": "Validation: 0it [00:00, ?it/s]",
      "application/vnd.jupyter.widget-view+json": {
       "version_major": 2,
       "version_minor": 0,
       "model_id": "6618454970f643e38525cda44cf35eaa"
      }
     },
     "metadata": {},
     "output_type": "display_data"
    },
    {
     "name": "stderr",
     "output_type": "stream",
     "text": [
      "Metric val_loss improved by 0.009 >= min_delta = 0.0. New best score: 0.419\n"
     ]
    },
    {
     "data": {
      "text/plain": "Validation: 0it [00:00, ?it/s]",
      "application/vnd.jupyter.widget-view+json": {
       "version_major": 2,
       "version_minor": 0,
       "model_id": "598a73f0caaf4047ab2e3aa197e88ce5"
      }
     },
     "metadata": {},
     "output_type": "display_data"
    },
    {
     "name": "stderr",
     "output_type": "stream",
     "text": [
      "`Trainer.fit` stopped: `max_epochs=15` reached.\n"
     ]
    }
   ],
   "source": [
    "second_model = train_model(Siamese_Words_Model(), Siamese_Words_Model,train_words_dataloader, val_words_dataloader, 'final_siamese_word_logs', 'final_siamese_word_model', max_epochs=15, patience=5)"
   ],
   "metadata": {
    "collapsed": false,
    "ExecuteTime": {
     "end_time": "2024-03-12T11:48:55.046709Z",
     "start_time": "2024-03-12T10:32:43.435652Z"
    }
   },
   "id": "273282626db3b9f4",
   "execution_count": 127
  },
  {
   "cell_type": "markdown",
   "source": [],
   "metadata": {
    "collapsed": false
   },
   "id": "f37abb2e0204d3d4"
  },
  {
   "cell_type": "code",
   "outputs": [
    {
     "data": {
      "text/plain": "Siamese_Words_Model(\n  (lstm1): LSTM(300, 64, num_layers=3, batch_first=True)\n  (dropout1): Dropout(p=0.3, inplace=False)\n  (bn11): BatchNorm1d(64, eps=1e-05, momentum=0.1, affine=True, track_running_stats=True)\n  (bn21): BatchNorm1d(128, eps=1e-05, momentum=0.1, affine=True, track_running_stats=True)\n  (fc11): Linear(in_features=64, out_features=128, bias=True)\n  (fc21): Linear(in_features=128, out_features=32, bias=True)\n  (lstm2): LSTM(300, 64, num_layers=3, batch_first=True)\n  (dropout2): Dropout(p=0.3, inplace=False)\n  (bn12): BatchNorm1d(64, eps=1e-05, momentum=0.1, affine=True, track_running_stats=True)\n  (bn22): BatchNorm1d(128, eps=1e-05, momentum=0.1, affine=True, track_running_stats=True)\n  (fc12): Linear(in_features=64, out_features=128, bias=True)\n  (fc22): Linear(in_features=128, out_features=32, bias=True)\n  (out): Linear(in_features=32, out_features=1, bias=True)\n)"
     },
     "execution_count": 128,
     "metadata": {},
     "output_type": "execute_result"
    }
   ],
   "source": [
    "second_model"
   ],
   "metadata": {
    "collapsed": false,
    "ExecuteTime": {
     "end_time": "2024-03-12T11:49:42.574808Z",
     "start_time": "2024-03-12T11:49:42.449120Z"
    }
   },
   "id": "145d107f8f99a2d0",
   "execution_count": 128
  },
  {
   "cell_type": "code",
   "outputs": [
    {
     "name": "stderr",
     "output_type": "stream",
     "text": [
      "/var/folders/yv/5v33gcn53hzf9937q1lnv1040000gn/T/ipykernel_94067/502060605.py:6: UserWarning: To copy construct from a tensor, it is recommended to use sourceTensor.clone().detach() or sourceTensor.clone().detach().requires_grad_(True), rather than torch.tensor(sourceTensor).\n",
      "  search_terms_padded = pad_sequence([torch.tensor(seq, dtype=torch.float32) if len(seq) > 0 else torch.zeros(1, 300) for seq in search_terms], batch_first=True, padding_value=0.0)\n",
      "/var/folders/yv/5v33gcn53hzf9937q1lnv1040000gn/T/ipykernel_94067/502060605.py:7: UserWarning: To copy construct from a tensor, it is recommended to use sourceTensor.clone().detach() or sourceTensor.clone().detach().requires_grad_(True), rather than torch.tensor(sourceTensor).\n",
      "  descriptions_padded = pad_sequence([torch.tensor(seq, dtype=torch.float32) if len(seq) > 0 else torch.zeros(1, 300) for seq in descriptions], batch_first=True, padding_value=0.0)\n"
     ]
    }
   ],
   "source": [
    "results = {\n",
    "    'search_term': [],\n",
    "    'description': [],\n",
    "    'predicted_relevance': [],\n",
    "    'true_relevance': []\n",
    "}\n",
    "\n",
    "for batch in val_words_dataloader:\n",
    "    search_term, description, relevance, text_search_term, text_description = batch\n",
    "    text_search_term = [' '.join(seq) for seq in text_search_term]\n",
    "    text_description = [' '.join(seq) for seq in text_description]\n",
    "    search_term = search_term.to(device)\n",
    "    description = description.to(device)\n",
    "    relevance = relevance.to(device)\n",
    "    relevance = relevance.cpu().numpy()\n",
    "\n",
    "    with torch.no_grad():\n",
    "        y_pred = second_model(search_term, description).squeeze()\n",
    "\n",
    "    y_pred = y_pred.cpu().numpy()\n",
    "\n",
    "    results['search_term'].extend(text_search_term)\n",
    "    results['description'].extend(text_description)\n",
    "    results['predicted_relevance'].extend(y_pred)\n",
    "    results['true_relevance'].extend(relevance)\n",
    "    break  \n",
    "results_df = pd.DataFrame(results)\n"
   ],
   "metadata": {
    "collapsed": false,
    "ExecuteTime": {
     "end_time": "2024-03-12T11:49:45.002873Z",
     "start_time": "2024-03-12T11:49:43.383335Z"
    }
   },
   "id": "531f6af7d181daa9",
   "execution_count": 129
  },
  {
   "cell_type": "code",
   "outputs": [
    {
     "data": {
      "text/plain": "                                         search_term  \\\n0                               adhesive slide strip   \n1                           fraiming nailer electric   \n2                        soild 6 panel interior door   \n3                                        column post   \n4                             Kitchen aid wall ovens   \n5                                      coconut fiber   \n6                                     dog fence batt   \n7                                 kick plates 8x30in   \n8   dusk dawn motion sensoroutdoor lighting fixtures   \n9                         kitchen cabinet door pulls   \n10                                       weber cover   \n11                                        pvc pipe 3   \n12                                   track light low   \n13                                  stick wall tiles   \n14               household flat white paint interior   \n15                                     metal carport   \n16                       white floor tile backsplash   \n17                               clearance appliance   \n18                                  1npt pvc adapter   \n19                            motion activated light   \n20                      allen bolt 1/16-60g x 5/16 '   \n21                              led spot light bulbs   \n22                                     glider chairs   \n23                              10x20 canopy netting   \n24                   gsilestone counter toplass tile   \n25                                      paint sticks   \n26                                    dishwasher kti   \n27                                         psint gun   \n28                          steves sons 6panel white   \n29                                 12 inch miter saw   \n30                                 atrium lever lock   \n31                           8 ' sigle wall gal pipe   \n\n                                          description  predicted_relevance  \\\n0   Get organized Self-Adhesive Single Hook ! smal...             2.398154   \n1   NR83AA3 3-1/4 in . paper collated framing nail...             2.625624   \n2   Builder 's Choice 6-Panel Clear Pine doors mad...             2.327825   \n3   Add elegance sophistication porch deck . Porch...             2.545440   \n4   30 in . Combination Wall Oven Even-Heat True C...             2.735246   \n5   Designed artist , distinctive mat work art add...             2.292153   \n6   Radial-Shape Select Havahart Wireless Dog Fenc...             2.268731   \n7   simple affordable way upgrade home replace old...             2.266158   \n8   Featuring oil rubbed bronze finish clear bevel...             2.618818   \n9   Liberty Cabinet Drawer Pull Installation Templ...             2.752829   \n10  Safeguard Weber Genesis gas grill revolutionar...             2.757178   \n11  NIBCO 3 in . x 4 in . PVC DWV Hub x Sewer Drai...             2.340271   \n12  Juno Trac-Lites 3-Light 4 ft. White Round Back...             2.225920   \n13  Original , Made North America , do-it-yourself...             2.842767   \n14  Ralph Lauren Paint represents tradition enduri...             2.353408   \n15  Hercules line canopies durable easy assemble ....             2.528598   \n16  ideal tile kitchen backsplash bathroom surface...             2.494580   \n17  Frigidaire 18 cu . ft. Top Freezer 2 Full-Widt...             2.328848   \n18  NIBCO PVC DWV trap adapter used residential co...             2.623765   \n19  innovative TG Motion Activated 6 LED Strip Lig...             2.605307   \n20  machine screws used nuts directly female threa...             2.314104   \n21  Philips 12W PAR30S LED Lamps AirFlux Technolog...             2.566459   \n22  Everyone special chair . Whether bookworm T.V ...             2.763840   \n23  Enjoy outdoor elements relax privacy elegant g...             2.734876   \n24  Stonemark Granite exclusive Home Depot . Stone...             2.438129   \n25  product hand tool used measuring . scale stand...             2.596925   \n26  lead-free brass fitting built-in standard tall...             2.482224   \n27  Apply professional-looking finish furniture ca...             2.355113   \n28  Steves & Sons Premium 9-Panel high - definitio...             2.262896   \n29  Introducing new RIDGID 12 in . Dual Bevel Comp...             2.624195   \n30  Stanley 25 ft . Tape Measure features Tru-Zero...             2.438895   \n31  MUELLER GLOBAL 3/4 in . x 8 in . Galvanized St...             2.390786   \n\n    true_relevance  \n0             3.00  \n1             2.33  \n2             2.33  \n3             3.00  \n4             3.00  \n5             3.00  \n6             2.00  \n7             2.33  \n8             2.33  \n9             2.67  \n10            2.33  \n11            2.33  \n12            2.67  \n13            3.00  \n14            3.00  \n15            3.00  \n16            1.67  \n17            1.67  \n18            2.67  \n19            2.33  \n20            1.00  \n21            3.00  \n22            3.00  \n23            2.00  \n24            1.67  \n25            1.67  \n26            2.33  \n27            3.00  \n28            2.67  \n29            3.00  \n30            1.33  \n31            1.67  ",
      "text/html": "<div>\n<style scoped>\n    .dataframe tbody tr th:only-of-type {\n        vertical-align: middle;\n    }\n\n    .dataframe tbody tr th {\n        vertical-align: top;\n    }\n\n    .dataframe thead th {\n        text-align: right;\n    }\n</style>\n<table border=\"1\" class=\"dataframe\">\n  <thead>\n    <tr style=\"text-align: right;\">\n      <th></th>\n      <th>search_term</th>\n      <th>description</th>\n      <th>predicted_relevance</th>\n      <th>true_relevance</th>\n    </tr>\n  </thead>\n  <tbody>\n    <tr>\n      <th>0</th>\n      <td>adhesive slide strip</td>\n      <td>Get organized Self-Adhesive Single Hook ! smal...</td>\n      <td>2.398154</td>\n      <td>3.00</td>\n    </tr>\n    <tr>\n      <th>1</th>\n      <td>fraiming nailer electric</td>\n      <td>NR83AA3 3-1/4 in . paper collated framing nail...</td>\n      <td>2.625624</td>\n      <td>2.33</td>\n    </tr>\n    <tr>\n      <th>2</th>\n      <td>soild 6 panel interior door</td>\n      <td>Builder 's Choice 6-Panel Clear Pine doors mad...</td>\n      <td>2.327825</td>\n      <td>2.33</td>\n    </tr>\n    <tr>\n      <th>3</th>\n      <td>column post</td>\n      <td>Add elegance sophistication porch deck . Porch...</td>\n      <td>2.545440</td>\n      <td>3.00</td>\n    </tr>\n    <tr>\n      <th>4</th>\n      <td>Kitchen aid wall ovens</td>\n      <td>30 in . Combination Wall Oven Even-Heat True C...</td>\n      <td>2.735246</td>\n      <td>3.00</td>\n    </tr>\n    <tr>\n      <th>5</th>\n      <td>coconut fiber</td>\n      <td>Designed artist , distinctive mat work art add...</td>\n      <td>2.292153</td>\n      <td>3.00</td>\n    </tr>\n    <tr>\n      <th>6</th>\n      <td>dog fence batt</td>\n      <td>Radial-Shape Select Havahart Wireless Dog Fenc...</td>\n      <td>2.268731</td>\n      <td>2.00</td>\n    </tr>\n    <tr>\n      <th>7</th>\n      <td>kick plates 8x30in</td>\n      <td>simple affordable way upgrade home replace old...</td>\n      <td>2.266158</td>\n      <td>2.33</td>\n    </tr>\n    <tr>\n      <th>8</th>\n      <td>dusk dawn motion sensoroutdoor lighting fixtures</td>\n      <td>Featuring oil rubbed bronze finish clear bevel...</td>\n      <td>2.618818</td>\n      <td>2.33</td>\n    </tr>\n    <tr>\n      <th>9</th>\n      <td>kitchen cabinet door pulls</td>\n      <td>Liberty Cabinet Drawer Pull Installation Templ...</td>\n      <td>2.752829</td>\n      <td>2.67</td>\n    </tr>\n    <tr>\n      <th>10</th>\n      <td>weber cover</td>\n      <td>Safeguard Weber Genesis gas grill revolutionar...</td>\n      <td>2.757178</td>\n      <td>2.33</td>\n    </tr>\n    <tr>\n      <th>11</th>\n      <td>pvc pipe 3</td>\n      <td>NIBCO 3 in . x 4 in . PVC DWV Hub x Sewer Drai...</td>\n      <td>2.340271</td>\n      <td>2.33</td>\n    </tr>\n    <tr>\n      <th>12</th>\n      <td>track light low</td>\n      <td>Juno Trac-Lites 3-Light 4 ft. White Round Back...</td>\n      <td>2.225920</td>\n      <td>2.67</td>\n    </tr>\n    <tr>\n      <th>13</th>\n      <td>stick wall tiles</td>\n      <td>Original , Made North America , do-it-yourself...</td>\n      <td>2.842767</td>\n      <td>3.00</td>\n    </tr>\n    <tr>\n      <th>14</th>\n      <td>household flat white paint interior</td>\n      <td>Ralph Lauren Paint represents tradition enduri...</td>\n      <td>2.353408</td>\n      <td>3.00</td>\n    </tr>\n    <tr>\n      <th>15</th>\n      <td>metal carport</td>\n      <td>Hercules line canopies durable easy assemble ....</td>\n      <td>2.528598</td>\n      <td>3.00</td>\n    </tr>\n    <tr>\n      <th>16</th>\n      <td>white floor tile backsplash</td>\n      <td>ideal tile kitchen backsplash bathroom surface...</td>\n      <td>2.494580</td>\n      <td>1.67</td>\n    </tr>\n    <tr>\n      <th>17</th>\n      <td>clearance appliance</td>\n      <td>Frigidaire 18 cu . ft. Top Freezer 2 Full-Widt...</td>\n      <td>2.328848</td>\n      <td>1.67</td>\n    </tr>\n    <tr>\n      <th>18</th>\n      <td>1npt pvc adapter</td>\n      <td>NIBCO PVC DWV trap adapter used residential co...</td>\n      <td>2.623765</td>\n      <td>2.67</td>\n    </tr>\n    <tr>\n      <th>19</th>\n      <td>motion activated light</td>\n      <td>innovative TG Motion Activated 6 LED Strip Lig...</td>\n      <td>2.605307</td>\n      <td>2.33</td>\n    </tr>\n    <tr>\n      <th>20</th>\n      <td>allen bolt 1/16-60g x 5/16 '</td>\n      <td>machine screws used nuts directly female threa...</td>\n      <td>2.314104</td>\n      <td>1.00</td>\n    </tr>\n    <tr>\n      <th>21</th>\n      <td>led spot light bulbs</td>\n      <td>Philips 12W PAR30S LED Lamps AirFlux Technolog...</td>\n      <td>2.566459</td>\n      <td>3.00</td>\n    </tr>\n    <tr>\n      <th>22</th>\n      <td>glider chairs</td>\n      <td>Everyone special chair . Whether bookworm T.V ...</td>\n      <td>2.763840</td>\n      <td>3.00</td>\n    </tr>\n    <tr>\n      <th>23</th>\n      <td>10x20 canopy netting</td>\n      <td>Enjoy outdoor elements relax privacy elegant g...</td>\n      <td>2.734876</td>\n      <td>2.00</td>\n    </tr>\n    <tr>\n      <th>24</th>\n      <td>gsilestone counter toplass tile</td>\n      <td>Stonemark Granite exclusive Home Depot . Stone...</td>\n      <td>2.438129</td>\n      <td>1.67</td>\n    </tr>\n    <tr>\n      <th>25</th>\n      <td>paint sticks</td>\n      <td>product hand tool used measuring . scale stand...</td>\n      <td>2.596925</td>\n      <td>1.67</td>\n    </tr>\n    <tr>\n      <th>26</th>\n      <td>dishwasher kti</td>\n      <td>lead-free brass fitting built-in standard tall...</td>\n      <td>2.482224</td>\n      <td>2.33</td>\n    </tr>\n    <tr>\n      <th>27</th>\n      <td>psint gun</td>\n      <td>Apply professional-looking finish furniture ca...</td>\n      <td>2.355113</td>\n      <td>3.00</td>\n    </tr>\n    <tr>\n      <th>28</th>\n      <td>steves sons 6panel white</td>\n      <td>Steves &amp; Sons Premium 9-Panel high - definitio...</td>\n      <td>2.262896</td>\n      <td>2.67</td>\n    </tr>\n    <tr>\n      <th>29</th>\n      <td>12 inch miter saw</td>\n      <td>Introducing new RIDGID 12 in . Dual Bevel Comp...</td>\n      <td>2.624195</td>\n      <td>3.00</td>\n    </tr>\n    <tr>\n      <th>30</th>\n      <td>atrium lever lock</td>\n      <td>Stanley 25 ft . Tape Measure features Tru-Zero...</td>\n      <td>2.438895</td>\n      <td>1.33</td>\n    </tr>\n    <tr>\n      <th>31</th>\n      <td>8 ' sigle wall gal pipe</td>\n      <td>MUELLER GLOBAL 3/4 in . x 8 in . Galvanized St...</td>\n      <td>2.390786</td>\n      <td>1.67</td>\n    </tr>\n  </tbody>\n</table>\n</div>"
     },
     "execution_count": 130,
     "metadata": {},
     "output_type": "execute_result"
    }
   ],
   "source": [
    "results_df"
   ],
   "metadata": {
    "collapsed": false,
    "ExecuteTime": {
     "end_time": "2024-03-12T11:49:46.352534Z",
     "start_time": "2024-03-12T11:49:46.337734Z"
    }
   },
   "id": "d3d3b72ff5643553",
   "execution_count": 130
  },
  {
   "cell_type": "code",
   "outputs": [],
   "source": [
    "def calc_metrics_on_loader_words(model, loader):\n",
    "    model.eval()\n",
    "    y_true = []\n",
    "    y_pred = []\n",
    "    for batch in loader:\n",
    "        search_term, description, relevance, text1, text2  = batch\n",
    "        search_term = search_term.to(device)\n",
    "        description = description.to(device)\n",
    "        relevance = relevance.to(device)\n",
    "        with torch.no_grad():\n",
    "            y_pred.extend(model(search_term, description).squeeze().cpu().numpy())\n",
    "            y_true.extend(relevance.cpu().numpy())\n",
    "    mae = mean_absolute_error(y_true, y_pred)\n",
    "    mse = mean_squared_error(y_true, y_pred)\n",
    "    rmse = np.sqrt(mse)\n",
    "    return {'MAE': mae, 'MSE': mse, 'RMSE': rmse}"
   ],
   "metadata": {
    "collapsed": false,
    "ExecuteTime": {
     "end_time": "2024-03-12T11:53:26.766828Z",
     "start_time": "2024-03-12T11:53:26.740475Z"
    }
   },
   "id": "5969857a021770cf",
   "execution_count": 136
  },
  {
   "cell_type": "code",
   "outputs": [
    {
     "name": "stderr",
     "output_type": "stream",
     "text": [
      "/var/folders/yv/5v33gcn53hzf9937q1lnv1040000gn/T/ipykernel_94067/502060605.py:6: UserWarning: To copy construct from a tensor, it is recommended to use sourceTensor.clone().detach() or sourceTensor.clone().detach().requires_grad_(True), rather than torch.tensor(sourceTensor).\n",
      "  search_terms_padded = pad_sequence([torch.tensor(seq, dtype=torch.float32) if len(seq) > 0 else torch.zeros(1, 300) for seq in search_terms], batch_first=True, padding_value=0.0)\n",
      "/var/folders/yv/5v33gcn53hzf9937q1lnv1040000gn/T/ipykernel_94067/502060605.py:7: UserWarning: To copy construct from a tensor, it is recommended to use sourceTensor.clone().detach() or sourceTensor.clone().detach().requires_grad_(True), rather than torch.tensor(sourceTensor).\n",
      "  descriptions_padded = pad_sequence([torch.tensor(seq, dtype=torch.float32) if len(seq) > 0 else torch.zeros(1, 300) for seq in descriptions], batch_first=True, padding_value=0.0)\n"
     ]
    },
    {
     "name": "stdout",
     "output_type": "stream",
     "text": [
      "Validation Metrics: {'MAE': 0.41886592, 'MSE': 0.2789937, 'RMSE': 0.52819854}\n"
     ]
    },
    {
     "name": "stderr",
     "output_type": "stream",
     "text": [
      "/var/folders/yv/5v33gcn53hzf9937q1lnv1040000gn/T/ipykernel_94067/502060605.py:6: UserWarning: To copy construct from a tensor, it is recommended to use sourceTensor.clone().detach() or sourceTensor.clone().detach().requires_grad_(True), rather than torch.tensor(sourceTensor).\n",
      "  search_terms_padded = pad_sequence([torch.tensor(seq, dtype=torch.float32) if len(seq) > 0 else torch.zeros(1, 300) for seq in search_terms], batch_first=True, padding_value=0.0)\n",
      "/var/folders/yv/5v33gcn53hzf9937q1lnv1040000gn/T/ipykernel_94067/502060605.py:7: UserWarning: To copy construct from a tensor, it is recommended to use sourceTensor.clone().detach() or sourceTensor.clone().detach().requires_grad_(True), rather than torch.tensor(sourceTensor).\n",
      "  descriptions_padded = pad_sequence([torch.tensor(seq, dtype=torch.float32) if len(seq) > 0 else torch.zeros(1, 300) for seq in descriptions], batch_first=True, padding_value=0.0)\n"
     ]
    },
    {
     "name": "stdout",
     "output_type": "stream",
     "text": [
      "Test Metrics: {'MAE': 0.4381923, 'MSE': 0.302289, 'RMSE': 0.54980814}\n"
     ]
    },
    {
     "name": "stderr",
     "output_type": "stream",
     "text": [
      "/var/folders/yv/5v33gcn53hzf9937q1lnv1040000gn/T/ipykernel_94067/502060605.py:6: UserWarning: To copy construct from a tensor, it is recommended to use sourceTensor.clone().detach() or sourceTensor.clone().detach().requires_grad_(True), rather than torch.tensor(sourceTensor).\n",
      "  search_terms_padded = pad_sequence([torch.tensor(seq, dtype=torch.float32) if len(seq) > 0 else torch.zeros(1, 300) for seq in search_terms], batch_first=True, padding_value=0.0)\n",
      "/var/folders/yv/5v33gcn53hzf9937q1lnv1040000gn/T/ipykernel_94067/502060605.py:7: UserWarning: To copy construct from a tensor, it is recommended to use sourceTensor.clone().detach() or sourceTensor.clone().detach().requires_grad_(True), rather than torch.tensor(sourceTensor).\n",
      "  descriptions_padded = pad_sequence([torch.tensor(seq, dtype=torch.float32) if len(seq) > 0 else torch.zeros(1, 300) for seq in descriptions], batch_first=True, padding_value=0.0)\n"
     ]
    },
    {
     "name": "stdout",
     "output_type": "stream",
     "text": [
      "Train Metrics: {'MAE': 0.4129802, 'MSE': 0.27296275, 'RMSE': 0.5224584}\n"
     ]
    }
   ],
   "source": [
    "val_first_metrics = calc_metrics_on_loader_words(second_model, val_words_dataloader)\n",
    "print(f\"Validation Metrics: {val_first_metrics}\")\n",
    "test_first_metrics = calc_metrics_on_loader_words(second_model, test_words_dataloader)\n",
    "print(f\"Test Metrics: {test_first_metrics}\")\n",
    "train_first_metrics = calc_metrics_on_loader_words(second_model, train_words_dataloader)\n",
    "print(f\"Train Metrics: {train_first_metrics}\")"
   ],
   "metadata": {
    "collapsed": false,
    "ExecuteTime": {
     "end_time": "2024-03-12T12:03:18.083530Z",
     "start_time": "2024-03-12T11:53:27.304565Z"
    }
   },
   "id": "1f72161d0fd79a90",
   "execution_count": 137
  },
  {
   "cell_type": "code",
   "outputs": [],
   "source": [
    "class Siamese_Words_Model_v2(L.LightningModule):\n",
    "    def __init__(self, embedding_dim=300, hidden_dim=64):\n",
    "        super().__init__()\n",
    "        self.lstm1 = nn.LSTM(embedding_dim, hidden_dim, batch_first=True, num_layers=3, bidirectional=True)\n",
    "        self.dropout1 = nn.Dropout(0.3)\n",
    "        self.bn11 = nn.BatchNorm1d(hidden_dim * 2) \n",
    "        self.bn21 = nn.BatchNorm1d(128)\n",
    "        self.fc11 = nn.Linear(hidden_dim * 2, 128)  \n",
    "        self.fc21 = nn.Linear(128, 32)\n",
    "        \n",
    "        self.lstm2 = nn.LSTM(embedding_dim, hidden_dim, batch_first=True, num_layers=3, bidirectional=True)\n",
    "        self.dropout2 = nn.Dropout(0.3)\n",
    "        self.bn12 = nn.BatchNorm1d(hidden_dim * 2)  \n",
    "        self.bn22 = nn.BatchNorm1d(128)\n",
    "        self.fc12 = nn.Linear(hidden_dim * 2, 128)\n",
    "        self.fc22 = nn.Linear(128, 32)\n",
    "        \n",
    "        self.out = nn.Linear(32, 1)\n",
    "        \n",
    "        for p in self.parameters():\n",
    "            if p.dim() > 1:\n",
    "                nn.init.xavier_uniform_(p)\n",
    "        \n",
    "        \n",
    "    def first_forward(self, x):\n",
    "        _, (h_n, _) = self.lstm1(x)\n",
    "        h_n_last = torch.cat((h_n[-2,:,:], h_n[-1,:,:]), dim=1)  \n",
    "        x = self.bn11(h_n_last)\n",
    "        x = self.fc11(x)\n",
    "        x = self.bn21(x)\n",
    "        x = self.dropout1(x)\n",
    "        x = self.fc21(x)\n",
    "        return x\n",
    "    \n",
    "    def second_forward(self, x):\n",
    "        _, (h_n, _) = self.lstm2(x)\n",
    "        h_n_last = torch.cat((h_n[-2,:,:], h_n[-1,:,:]), dim=1) \n",
    "        x = self.bn12(h_n_last)\n",
    "        x = self.fc12(x)\n",
    "        x = self.bn22(x)\n",
    "        x = self.dropout2(x)\n",
    "        x = self.fc22(x)\n",
    "        return x\n",
    "\n",
    "    def forward(self, x1, x2):\n",
    "        x1 = self.first_forward(x1)\n",
    "        x2 = self.second_forward(x2)\n",
    "        difference = torch.abs(x1 - x2)\n",
    "        output = self.out(difference)\n",
    "        return output\n",
    "    \n",
    "    def training_step(self, batch, batch_idx):\n",
    "        x1, x2, y, text1, text2 = batch\n",
    "        y_pred = self(x1, x2).squeeze()\n",
    "        mse_loss = nn.MSELoss()(y.float(), y_pred)\n",
    "        rmse = torch.sqrt(mse_loss)\n",
    "        loss = nn.L1Loss()(y.float(), y_pred)\n",
    "        self.log('train_loss', loss, on_step=True, on_epoch=True, prog_bar=True, logger=True)\n",
    "        self.log('train_rmse', rmse, on_step=True, on_epoch=True, prog_bar=True, logger=True)\n",
    "        return loss\n",
    "    \n",
    "    def validation_step(self, batch, batch_idx):\n",
    "        x1, x2, y, text1, text2 = batch\n",
    "        y_pred = self(x1, x2).squeeze()\n",
    "        mse_loss = nn.MSELoss()(y.float(), y_pred)\n",
    "        rmse = torch.sqrt(mse_loss)\n",
    "        loss = nn.L1Loss()(y.float(), y_pred)\n",
    "        self.log('val_loss', loss, on_step=True, on_epoch=True, prog_bar=True, logger=True)\n",
    "        self.log('val_rmse', rmse, on_step=True, on_epoch=True, prog_bar=True, logger=True)\n",
    "        return loss\n",
    "    \n",
    "    def configure_optimizers(self):\n",
    "        return optim.Adam(self.parameters(), lr=1e-3, weight_decay=1e-5)\n"
   ],
   "metadata": {
    "collapsed": false,
    "ExecuteTime": {
     "end_time": "2024-03-12T15:43:58.809187Z",
     "start_time": "2024-03-12T15:43:58.805933Z"
    }
   },
   "id": "978e781ec2597c12",
   "execution_count": 145
  },
  {
   "cell_type": "code",
   "outputs": [
    {
     "name": "stderr",
     "output_type": "stream",
     "text": [
      "GPU available: True (mps), used: True\n",
      "TPU available: False, using: 0 TPU cores\n",
      "IPU available: False, using: 0 IPUs\n",
      "HPU available: False, using: 0 HPUs\n",
      "\n",
      "   | Name     | Type        | Params\n",
      "------------------------------------------\n",
      "0  | lstm1    | LSTM        | 386 K \n",
      "1  | dropout1 | Dropout     | 0     \n",
      "2  | bn11     | BatchNorm1d | 256   \n",
      "3  | bn21     | BatchNorm1d | 256   \n",
      "4  | fc11     | Linear      | 16.5 K\n",
      "5  | fc21     | Linear      | 4.1 K \n",
      "6  | lstm2    | LSTM        | 386 K \n",
      "7  | dropout2 | Dropout     | 0     \n",
      "8  | bn12     | BatchNorm1d | 256   \n",
      "9  | bn22     | BatchNorm1d | 256   \n",
      "10 | fc12     | Linear      | 16.5 K\n",
      "11 | fc22     | Linear      | 4.1 K \n",
      "12 | out      | Linear      | 33    \n",
      "------------------------------------------\n",
      "814 K     Trainable params\n",
      "0         Non-trainable params\n",
      "814 K     Total params\n",
      "3.258     Total estimated model params size (MB)\n"
     ]
    },
    {
     "data": {
      "text/plain": "Sanity Checking: 0it [00:00, ?it/s]",
      "application/vnd.jupyter.widget-view+json": {
       "version_major": 2,
       "version_minor": 0,
       "model_id": "7200d9abd6904e148adf071bc7b1aac2"
      }
     },
     "metadata": {},
     "output_type": "display_data"
    },
    {
     "name": "stderr",
     "output_type": "stream",
     "text": [
      "/Users/ofekglik/miniconda3/lib/python3.11/site-packages/lightning/pytorch/trainer/connectors/data_connector.py:442: PossibleUserWarning: The dataloader, val_dataloader, does not have many workers which may be a bottleneck. Consider increasing the value of the `num_workers` argument` (try 10 which is the number of cpus on this machine) in the `DataLoader` init to improve performance.\n",
      "  rank_zero_warn(\n",
      "/var/folders/yv/5v33gcn53hzf9937q1lnv1040000gn/T/ipykernel_94067/502060605.py:6: UserWarning: To copy construct from a tensor, it is recommended to use sourceTensor.clone().detach() or sourceTensor.clone().detach().requires_grad_(True), rather than torch.tensor(sourceTensor).\n",
      "  search_terms_padded = pad_sequence([torch.tensor(seq, dtype=torch.float32) if len(seq) > 0 else torch.zeros(1, 300) for seq in search_terms], batch_first=True, padding_value=0.0)\n",
      "/var/folders/yv/5v33gcn53hzf9937q1lnv1040000gn/T/ipykernel_94067/502060605.py:7: UserWarning: To copy construct from a tensor, it is recommended to use sourceTensor.clone().detach() or sourceTensor.clone().detach().requires_grad_(True), rather than torch.tensor(sourceTensor).\n",
      "  descriptions_padded = pad_sequence([torch.tensor(seq, dtype=torch.float32) if len(seq) > 0 else torch.zeros(1, 300) for seq in descriptions], batch_first=True, padding_value=0.0)\n",
      "/Users/ofekglik/miniconda3/lib/python3.11/site-packages/lightning/pytorch/trainer/connectors/data_connector.py:442: PossibleUserWarning: The dataloader, train_dataloader, does not have many workers which may be a bottleneck. Consider increasing the value of the `num_workers` argument` (try 10 which is the number of cpus on this machine) in the `DataLoader` init to improve performance.\n",
      "  rank_zero_warn(\n"
     ]
    },
    {
     "data": {
      "text/plain": "Training: 0it [00:00, ?it/s]",
      "application/vnd.jupyter.widget-view+json": {
       "version_major": 2,
       "version_minor": 0,
       "model_id": "a881b139b2b040ccbd12f93077944f12"
      }
     },
     "metadata": {},
     "output_type": "display_data"
    },
    {
     "data": {
      "text/plain": "Validation: 0it [00:00, ?it/s]",
      "application/vnd.jupyter.widget-view+json": {
       "version_major": 2,
       "version_minor": 0,
       "model_id": "3eb0b9f09f0f49b2a1a86af060aad142"
      }
     },
     "metadata": {},
     "output_type": "display_data"
    },
    {
     "name": "stderr",
     "output_type": "stream",
     "text": [
      "Metric val_loss improved. New best score: 0.454\n"
     ]
    },
    {
     "data": {
      "text/plain": "Validation: 0it [00:00, ?it/s]",
      "application/vnd.jupyter.widget-view+json": {
       "version_major": 2,
       "version_minor": 0,
       "model_id": "36195d5ec4b44baab3f82e0eb1b1a75f"
      }
     },
     "metadata": {},
     "output_type": "display_data"
    },
    {
     "name": "stderr",
     "output_type": "stream",
     "text": [
      "Metric val_loss improved by 0.021 >= min_delta = 0.0. New best score: 0.432\n"
     ]
    },
    {
     "data": {
      "text/plain": "Validation: 0it [00:00, ?it/s]",
      "application/vnd.jupyter.widget-view+json": {
       "version_major": 2,
       "version_minor": 0,
       "model_id": "f94507a346ae40659b05d2d2da8fb3ef"
      }
     },
     "metadata": {},
     "output_type": "display_data"
    },
    {
     "name": "stderr",
     "output_type": "stream",
     "text": [
      "Metric val_loss improved by 0.004 >= min_delta = 0.0. New best score: 0.428\n"
     ]
    },
    {
     "data": {
      "text/plain": "Validation: 0it [00:00, ?it/s]",
      "application/vnd.jupyter.widget-view+json": {
       "version_major": 2,
       "version_minor": 0,
       "model_id": "f360fb04c0914dde90188a8fda67b680"
      }
     },
     "metadata": {},
     "output_type": "display_data"
    },
    {
     "name": "stderr",
     "output_type": "stream",
     "text": [
      "Metric val_loss improved by 0.015 >= min_delta = 0.0. New best score: 0.413\n"
     ]
    },
    {
     "data": {
      "text/plain": "Validation: 0it [00:00, ?it/s]",
      "application/vnd.jupyter.widget-view+json": {
       "version_major": 2,
       "version_minor": 0,
       "model_id": "64b69022e3d64db4bffe2ccf5e8a107f"
      }
     },
     "metadata": {},
     "output_type": "display_data"
    },
    {
     "name": "stderr",
     "output_type": "stream",
     "text": [
      "Metric val_loss improved by 0.005 >= min_delta = 0.0. New best score: 0.408\n"
     ]
    },
    {
     "data": {
      "text/plain": "Validation: 0it [00:00, ?it/s]",
      "application/vnd.jupyter.widget-view+json": {
       "version_major": 2,
       "version_minor": 0,
       "model_id": "fdc4996ba1c34219936be1a995a42f33"
      }
     },
     "metadata": {},
     "output_type": "display_data"
    },
    {
     "name": "stderr",
     "output_type": "stream",
     "text": [
      "Metric val_loss improved by 0.015 >= min_delta = 0.0. New best score: 0.393\n"
     ]
    },
    {
     "data": {
      "text/plain": "Validation: 0it [00:00, ?it/s]",
      "application/vnd.jupyter.widget-view+json": {
       "version_major": 2,
       "version_minor": 0,
       "model_id": "c4bc0a71cb9748b8817019190be4eac5"
      }
     },
     "metadata": {},
     "output_type": "display_data"
    },
    {
     "data": {
      "text/plain": "Validation: 0it [00:00, ?it/s]",
      "application/vnd.jupyter.widget-view+json": {
       "version_major": 2,
       "version_minor": 0,
       "model_id": "097b99b108f9406399722911fc8de7a3"
      }
     },
     "metadata": {},
     "output_type": "display_data"
    },
    {
     "data": {
      "text/plain": "Validation: 0it [00:00, ?it/s]",
      "application/vnd.jupyter.widget-view+json": {
       "version_major": 2,
       "version_minor": 0,
       "model_id": "2ee0c7e4589845c9b07d35e35caafbdc"
      }
     },
     "metadata": {},
     "output_type": "display_data"
    },
    {
     "name": "stderr",
     "output_type": "stream",
     "text": [
      "Metric val_loss improved by 0.004 >= min_delta = 0.0. New best score: 0.389\n"
     ]
    },
    {
     "data": {
      "text/plain": "Validation: 0it [00:00, ?it/s]",
      "application/vnd.jupyter.widget-view+json": {
       "version_major": 2,
       "version_minor": 0,
       "model_id": "fbad48ceb538438fa7ec2d1bcc9f5bf1"
      }
     },
     "metadata": {},
     "output_type": "display_data"
    },
    {
     "data": {
      "text/plain": "Validation: 0it [00:00, ?it/s]",
      "application/vnd.jupyter.widget-view+json": {
       "version_major": 2,
       "version_minor": 0,
       "model_id": "dea418cb156d413dadb5aa38b94c2068"
      }
     },
     "metadata": {},
     "output_type": "display_data"
    },
    {
     "data": {
      "text/plain": "Validation: 0it [00:00, ?it/s]",
      "application/vnd.jupyter.widget-view+json": {
       "version_major": 2,
       "version_minor": 0,
       "model_id": "eb06fece0d98461baf1ec9ba71d91810"
      }
     },
     "metadata": {},
     "output_type": "display_data"
    },
    {
     "data": {
      "text/plain": "Validation: 0it [00:00, ?it/s]",
      "application/vnd.jupyter.widget-view+json": {
       "version_major": 2,
       "version_minor": 0,
       "model_id": "7e67f20990eb4f6981406bf5abd25469"
      }
     },
     "metadata": {},
     "output_type": "display_data"
    },
    {
     "data": {
      "text/plain": "Validation: 0it [00:00, ?it/s]",
      "application/vnd.jupyter.widget-view+json": {
       "version_major": 2,
       "version_minor": 0,
       "model_id": "36bf2e7f12094bd499e7a85d27a47b88"
      }
     },
     "metadata": {},
     "output_type": "display_data"
    },
    {
     "name": "stderr",
     "output_type": "stream",
     "text": [
      "Monitored metric val_loss did not improve in the last 5 records. Best score: 0.389. Signaling Trainer to stop.\n"
     ]
    }
   ],
   "source": [
    "third_model = train_model(Siamese_Words_Model_v2(), Siamese_Words_Model_v2, train_words_dataloader, val_words_dataloader, 'final_siamese_word_logs_v2', 'final_siamese_word_model_v2', max_epochs=15, patience=5)"
   ],
   "metadata": {
    "collapsed": false,
    "ExecuteTime": {
     "end_time": "2024-03-12T17:13:58.868640Z",
     "start_time": "2024-03-12T15:43:59.796465Z"
    }
   },
   "id": "d8cb9d7026beef04",
   "execution_count": 147
  },
  {
   "cell_type": "code",
   "outputs": [
    {
     "name": "stderr",
     "output_type": "stream",
     "text": [
      "/var/folders/yv/5v33gcn53hzf9937q1lnv1040000gn/T/ipykernel_94067/502060605.py:6: UserWarning: To copy construct from a tensor, it is recommended to use sourceTensor.clone().detach() or sourceTensor.clone().detach().requires_grad_(True), rather than torch.tensor(sourceTensor).\n",
      "  search_terms_padded = pad_sequence([torch.tensor(seq, dtype=torch.float32) if len(seq) > 0 else torch.zeros(1, 300) for seq in search_terms], batch_first=True, padding_value=0.0)\n",
      "/var/folders/yv/5v33gcn53hzf9937q1lnv1040000gn/T/ipykernel_94067/502060605.py:7: UserWarning: To copy construct from a tensor, it is recommended to use sourceTensor.clone().detach() or sourceTensor.clone().detach().requires_grad_(True), rather than torch.tensor(sourceTensor).\n",
      "  descriptions_padded = pad_sequence([torch.tensor(seq, dtype=torch.float32) if len(seq) > 0 else torch.zeros(1, 300) for seq in descriptions], batch_first=True, padding_value=0.0)\n",
      "/var/folders/yv/5v33gcn53hzf9937q1lnv1040000gn/T/ipykernel_94067/502060605.py:6: UserWarning: To copy construct from a tensor, it is recommended to use sourceTensor.clone().detach() or sourceTensor.clone().detach().requires_grad_(True), rather than torch.tensor(sourceTensor).\n",
      "  search_terms_padded = pad_sequence([torch.tensor(seq, dtype=torch.float32) if len(seq) > 0 else torch.zeros(1, 300) for seq in search_terms], batch_first=True, padding_value=0.0)\n",
      "/var/folders/yv/5v33gcn53hzf9937q1lnv1040000gn/T/ipykernel_94067/502060605.py:7: UserWarning: To copy construct from a tensor, it is recommended to use sourceTensor.clone().detach() or sourceTensor.clone().detach().requires_grad_(True), rather than torch.tensor(sourceTensor).\n",
      "  descriptions_padded = pad_sequence([torch.tensor(seq, dtype=torch.float32) if len(seq) > 0 else torch.zeros(1, 300) for seq in descriptions], batch_first=True, padding_value=0.0)\n",
      "/var/folders/yv/5v33gcn53hzf9937q1lnv1040000gn/T/ipykernel_94067/502060605.py:6: UserWarning: To copy construct from a tensor, it is recommended to use sourceTensor.clone().detach() or sourceTensor.clone().detach().requires_grad_(True), rather than torch.tensor(sourceTensor).\n",
      "  search_terms_padded = pad_sequence([torch.tensor(seq, dtype=torch.float32) if len(seq) > 0 else torch.zeros(1, 300) for seq in search_terms], batch_first=True, padding_value=0.0)\n",
      "/var/folders/yv/5v33gcn53hzf9937q1lnv1040000gn/T/ipykernel_94067/502060605.py:7: UserWarning: To copy construct from a tensor, it is recommended to use sourceTensor.clone().detach() or sourceTensor.clone().detach().requires_grad_(True), rather than torch.tensor(sourceTensor).\n",
      "  descriptions_padded = pad_sequence([torch.tensor(seq, dtype=torch.float32) if len(seq) > 0 else torch.zeros(1, 300) for seq in descriptions], batch_first=True, padding_value=0.0)\n"
     ]
    }
   ],
   "source": [
    "train_metrics = calc_metrics_on_loader_words(third_model, train_words_dataloader)\n",
    "val_metrics = calc_metrics_on_loader_words(third_model, val_words_dataloader)\n",
    "test_metrics = calc_metrics_on_loader_words(third_model, test_words_dataloader)"
   ],
   "metadata": {
    "collapsed": false,
    "ExecuteTime": {
     "end_time": "2024-03-12T15:43:28.735359Z",
     "start_time": "2024-03-12T15:32:02.263960Z"
    }
   },
   "id": "bd8ed84bcc4c60f",
   "execution_count": 143
  },
  {
   "cell_type": "code",
   "outputs": [
    {
     "name": "stdout",
     "output_type": "stream",
     "text": [
      "Train Metrics: {'MAE': 0.30515686, 'MSE': 0.17129274, 'RMSE': 0.41387528}\n",
      "Validation Metrics: {'MAE': 0.39080417, 'MSE': 0.25386646, 'RMSE': 0.50385165}\n",
      "Test Metrics: {'MAE': 0.4443448, 'MSE': 0.31968886, 'RMSE': 0.5654103}\n"
     ]
    }
   ],
   "source": [
    "print(f\"Train Metrics: {train_metrics}\")\n",
    "print(f\"Validation Metrics: {val_metrics}\")\n",
    "print(f\"Test Metrics: {test_metrics}\")"
   ],
   "metadata": {
    "collapsed": false,
    "ExecuteTime": {
     "end_time": "2024-03-12T15:43:28.770485Z",
     "start_time": "2024-03-12T15:43:28.757853Z"
    }
   },
   "id": "7690fe774d87db78",
   "execution_count": 144
  }
 ],
 "metadata": {
  "kernelspec": {
   "display_name": "Python 3",
   "language": "python",
   "name": "python3"
  },
  "language_info": {
   "codemirror_mode": {
    "name": "ipython",
    "version": 2
   },
   "file_extension": ".py",
   "mimetype": "text/x-python",
   "name": "python",
   "nbconvert_exporter": "python",
   "pygments_lexer": "ipython2",
   "version": "2.7.6"
  }
 },
 "nbformat": 4,
 "nbformat_minor": 5
}
